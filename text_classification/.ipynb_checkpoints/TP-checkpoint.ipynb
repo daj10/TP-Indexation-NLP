{
 "cells": [
  {
   "cell_type": "markdown",
   "metadata": {},
   "source": [
    "# Traitement du langage naturel (TALN) avec NLTK"
   ]
  },
  {
   "cell_type": "markdown",
   "metadata": {},
   "source": [
    "#### Prédire les personnages\n",
    "\n",
    "#### Dataset: South Park Dialogues : https://www.kaggle.com/tovarischsukhov/southparklines"
   ]
  },
  {
   "cell_type": "markdown",
   "metadata": {},
   "source": [
    "## Importation des librairies nécessaires"
   ]
  },
  {
   "cell_type": "code",
   "execution_count": 1,
   "metadata": {},
   "outputs": [],
   "source": [
    "import matplotlib.pyplot as plt # visualiser des données sous formes de graphiques\n",
    "import numpy as np # manipuler des matrices ou tableaux \n",
    "import pandas as pd # analyse, nettoyage et préparation des données\n",
    "import seaborn as sns # création de tracés statistiques communs\n",
    "import sklearn # librairie apprenissage automatique"
   ]
  },
  {
   "cell_type": "markdown",
   "metadata": {},
   "source": [
    "## Lire le dataset"
   ]
  },
  {
   "cell_type": "code",
   "execution_count": 2,
   "metadata": {},
   "outputs": [],
   "source": [
    "dataset = pd.read_csv('data/south_park_dialogues_dataset.csv')"
   ]
  },
  {
   "cell_type": "code",
   "execution_count": 3,
   "metadata": {},
   "outputs": [
    {
     "data": {
      "text/html": [
       "<div>\n",
       "<style scoped>\n",
       "    .dataframe tbody tr th:only-of-type {\n",
       "        vertical-align: middle;\n",
       "    }\n",
       "\n",
       "    .dataframe tbody tr th {\n",
       "        vertical-align: top;\n",
       "    }\n",
       "\n",
       "    .dataframe thead th {\n",
       "        text-align: right;\n",
       "    }\n",
       "</style>\n",
       "<table border=\"1\" class=\"dataframe\">\n",
       "  <thead>\n",
       "    <tr style=\"text-align: right;\">\n",
       "      <th></th>\n",
       "      <th>Season</th>\n",
       "      <th>Episode</th>\n",
       "      <th>Character</th>\n",
       "      <th>Line</th>\n",
       "    </tr>\n",
       "  </thead>\n",
       "  <tbody>\n",
       "    <tr>\n",
       "      <th>0</th>\n",
       "      <td>10</td>\n",
       "      <td>1</td>\n",
       "      <td>Stan</td>\n",
       "      <td>You guys, you guys! Chef is going away. \\n</td>\n",
       "    </tr>\n",
       "    <tr>\n",
       "      <th>1</th>\n",
       "      <td>10</td>\n",
       "      <td>1</td>\n",
       "      <td>Kyle</td>\n",
       "      <td>Going away? For how long?\\n</td>\n",
       "    </tr>\n",
       "    <tr>\n",
       "      <th>2</th>\n",
       "      <td>10</td>\n",
       "      <td>1</td>\n",
       "      <td>Stan</td>\n",
       "      <td>Forever.\\n</td>\n",
       "    </tr>\n",
       "    <tr>\n",
       "      <th>3</th>\n",
       "      <td>10</td>\n",
       "      <td>1</td>\n",
       "      <td>Chef</td>\n",
       "      <td>I'm sorry boys.\\n</td>\n",
       "    </tr>\n",
       "    <tr>\n",
       "      <th>4</th>\n",
       "      <td>10</td>\n",
       "      <td>1</td>\n",
       "      <td>Stan</td>\n",
       "      <td>Chef said he's been bored, so he joining a gro...</td>\n",
       "    </tr>\n",
       "  </tbody>\n",
       "</table>\n",
       "</div>"
      ],
      "text/plain": [
       "  Season Episode Character                                               Line\n",
       "0     10       1      Stan         You guys, you guys! Chef is going away. \\n\n",
       "1     10       1      Kyle                        Going away? For how long?\\n\n",
       "2     10       1      Stan                                         Forever.\\n\n",
       "3     10       1      Chef                                  I'm sorry boys.\\n\n",
       "4     10       1      Stan  Chef said he's been bored, so he joining a gro..."
      ]
     },
     "execution_count": 3,
     "metadata": {},
     "output_type": "execute_result"
    }
   ],
   "source": [
    "# 5 premières lignes\n",
    "dataset.head()"
   ]
  },
  {
   "cell_type": "code",
   "execution_count": 4,
   "metadata": {},
   "outputs": [
    {
     "data": {
      "text/html": [
       "<div>\n",
       "<style scoped>\n",
       "    .dataframe tbody tr th:only-of-type {\n",
       "        vertical-align: middle;\n",
       "    }\n",
       "\n",
       "    .dataframe tbody tr th {\n",
       "        vertical-align: top;\n",
       "    }\n",
       "\n",
       "    .dataframe thead th {\n",
       "        text-align: right;\n",
       "    }\n",
       "</style>\n",
       "<table border=\"1\" class=\"dataframe\">\n",
       "  <thead>\n",
       "    <tr style=\"text-align: right;\">\n",
       "      <th></th>\n",
       "      <th>Season</th>\n",
       "      <th>Episode</th>\n",
       "      <th>Character</th>\n",
       "      <th>Line</th>\n",
       "    </tr>\n",
       "  </thead>\n",
       "  <tbody>\n",
       "    <tr>\n",
       "      <th>70891</th>\n",
       "      <td>9</td>\n",
       "      <td>14</td>\n",
       "      <td>Stan</td>\n",
       "      <td>I think you're pushing it.\\n</td>\n",
       "    </tr>\n",
       "    <tr>\n",
       "      <th>70892</th>\n",
       "      <td>9</td>\n",
       "      <td>14</td>\n",
       "      <td>Randy</td>\n",
       "      <td>How about twenty?\\n</td>\n",
       "    </tr>\n",
       "    <tr>\n",
       "      <th>70893</th>\n",
       "      <td>9</td>\n",
       "      <td>14</td>\n",
       "      <td>Stan</td>\n",
       "      <td>That's not disciprine.\\n</td>\n",
       "    </tr>\n",
       "    <tr>\n",
       "      <th>70894</th>\n",
       "      <td>9</td>\n",
       "      <td>14</td>\n",
       "      <td>Randy</td>\n",
       "      <td>Right right. Does vodka count?\\n</td>\n",
       "    </tr>\n",
       "    <tr>\n",
       "      <th>70895</th>\n",
       "      <td>9</td>\n",
       "      <td>14</td>\n",
       "      <td>Stan</td>\n",
       "      <td>Dad!\\n</td>\n",
       "    </tr>\n",
       "  </tbody>\n",
       "</table>\n",
       "</div>"
      ],
      "text/plain": [
       "      Season Episode Character                              Line\n",
       "70891      9      14      Stan      I think you're pushing it.\\n\n",
       "70892      9      14     Randy               How about twenty?\\n\n",
       "70893      9      14      Stan          That's not disciprine.\\n\n",
       "70894      9      14     Randy  Right right. Does vodka count?\\n\n",
       "70895      9      14      Stan                            Dad!\\n"
      ]
     },
     "execution_count": 4,
     "metadata": {},
     "output_type": "execute_result"
    }
   ],
   "source": [
    "# 5 dernières lignes\n",
    "dataset.tail()"
   ]
  },
  {
   "cell_type": "markdown",
   "metadata": {},
   "source": [
    "## Analyse Exploratoire\n",
    "\n",
    "Quelques statistiques de bases afin de se familiariser avec le jeu de données"
   ]
  },
  {
   "cell_type": "code",
   "execution_count": 5,
   "metadata": {},
   "outputs": [
    {
     "name": "stdout",
     "output_type": "stream",
     "text": [
      "Le nombre de lignes: 70896\n",
      "Le nombre de variables: 4\n",
      "-------------------------------------------------------\n",
      "les variables du jeu de données:\n",
      "1 Season\n",
      "2 Episode\n",
      "3 Character\n",
      "4 Line\n",
      "-------------------------------------------------------\n",
      "Pas de valeurs manquantes dans notre jeu de données\n",
      "-------------------------------------------------------\n",
      "Pas de doublons dans notre jeu de données\n"
     ]
    }
   ],
   "source": [
    "# Quelques détails statistiques\n",
    "\n",
    "def Exploration(data):\n",
    "    '''\n",
    "    Fonction pour afficher la taille, le nombre de lignes et colonnes, Les variables manquantes\n",
    "    input: dataframe\n",
    "    ouput: \n",
    "    \n",
    "    '''\n",
    "    i = 0 # compteur no\n",
    "    # taille dataset\n",
    "    data_size = data.shape\n",
    "    print(\"Le nombre de lignes: {}\".format(data_size[0]))\n",
    "    print(\"Le nombre de variables: {}\".format(data_size[1]))\n",
    "    print(\"-------------------------------------------------------\")\n",
    "    \n",
    "    # les variables de notre jeu de données\n",
    "    data_col = data.columns\n",
    "    print(\"les variables du jeu de données:\")\n",
    "    for idx, val in enumerate (data.columns):\n",
    "        print(idx+1, val)\n",
    "    print(\"-------------------------------------------------------\")\n",
    "    # Les valeurs manquantes\n",
    "    if data.isnull().values.any() is not None:\n",
    "        print(\"Pas de valeurs manquantes dans notre jeu de données\")\n",
    "    else:\n",
    "        print(data.isnull().sum())\n",
    "    print(\"-------------------------------------------------------\")\n",
    "    \n",
    "    # lignes dupliquées\n",
    "    if data.duplicated() is not None:\n",
    "        print(\"Pas de doublons dans notre jeu de données\")\n",
    "    else:\n",
    "        print('nombre de lignes dupliquées : {a}'.format(a=data.duplicated().sum()))\n",
    "Exploration(dataset)"
   ]
  },
  {
   "cell_type": "code",
   "execution_count": 6,
   "metadata": {},
   "outputs": [
    {
     "data": {
      "text/plain": [
       "Season       object\n",
       "Episode      object\n",
       "Character    object\n",
       "Line         object\n",
       "dtype: object"
      ]
     },
     "execution_count": 6,
     "metadata": {},
     "output_type": "execute_result"
    }
   ],
   "source": [
    "# Les types de variables\n",
    "dataset.dtypes"
   ]
  },
  {
   "cell_type": "markdown",
   "metadata": {},
   "source": [
    "Comme nous pouvons le constater notre de jeu de données ne comporte que des variables categorielles. les chiffres dans les colonnes saisons et episodes peuvent etre interpreter comme saison numero X, episode numero X, ou X est le numero de la saison ou de l'episode correspondant."
   ]
  },
  {
   "cell_type": "code",
   "execution_count": 7,
   "metadata": {},
   "outputs": [
    {
     "data": {
      "text/html": [
       "<div>\n",
       "<style scoped>\n",
       "    .dataframe tbody tr th:only-of-type {\n",
       "        vertical-align: middle;\n",
       "    }\n",
       "\n",
       "    .dataframe tbody tr th {\n",
       "        vertical-align: top;\n",
       "    }\n",
       "\n",
       "    .dataframe thead th {\n",
       "        text-align: right;\n",
       "    }\n",
       "</style>\n",
       "<table border=\"1\" class=\"dataframe\">\n",
       "  <thead>\n",
       "    <tr style=\"text-align: right;\">\n",
       "      <th></th>\n",
       "      <th>Season</th>\n",
       "      <th>Episode</th>\n",
       "      <th>Character</th>\n",
       "      <th>Line</th>\n",
       "    </tr>\n",
       "  </thead>\n",
       "  <tbody>\n",
       "    <tr>\n",
       "      <th>count</th>\n",
       "      <td>70896</td>\n",
       "      <td>70896</td>\n",
       "      <td>70896</td>\n",
       "      <td>70896</td>\n",
       "    </tr>\n",
       "    <tr>\n",
       "      <th>unique</th>\n",
       "      <td>19</td>\n",
       "      <td>19</td>\n",
       "      <td>3950</td>\n",
       "      <td>64301</td>\n",
       "    </tr>\n",
       "    <tr>\n",
       "      <th>top</th>\n",
       "      <td>2</td>\n",
       "      <td>10</td>\n",
       "      <td>Cartman</td>\n",
       "      <td>What?\\n</td>\n",
       "    </tr>\n",
       "    <tr>\n",
       "      <th>freq</th>\n",
       "      <td>6416</td>\n",
       "      <td>5271</td>\n",
       "      <td>9774</td>\n",
       "      <td>361</td>\n",
       "    </tr>\n",
       "  </tbody>\n",
       "</table>\n",
       "</div>"
      ],
      "text/plain": [
       "       Season Episode Character     Line\n",
       "count   70896   70896     70896    70896\n",
       "unique     19      19      3950    64301\n",
       "top         2      10   Cartman  What?\\n\n",
       "freq     6416    5271      9774      361"
      ]
     },
     "execution_count": 7,
     "metadata": {},
     "output_type": "execute_result"
    }
   ],
   "source": [
    "# Indicateurs statistiques\n",
    "dataset.describe(include=[np.object])"
   ]
  },
  {
   "cell_type": "markdown",
   "metadata": {},
   "source": [
    "### Analyse de la variable à prédire\n",
    "\n",
    "Nous devons prédire les personnages en fonction des paroles. Intéressons nous donc à la colonne character"
   ]
  },
  {
   "cell_type": "code",
   "execution_count": 8,
   "metadata": {},
   "outputs": [
    {
     "data": {
      "text/plain": [
       "3950"
      ]
     },
     "execution_count": 8,
     "metadata": {},
     "output_type": "execute_result"
    }
   ],
   "source": [
    "# Nombre des personnages\n",
    "len(dataset['Character'].unique())"
   ]
  },
  {
   "cell_type": "markdown",
   "metadata": {},
   "source": [
    "Nous avons 3950 personnages au total. Pour une tache de classification ce nombre est exorbitant. Nous nous interresserons donc aux personnages qui ont le plus de dialogues."
   ]
  },
  {
   "cell_type": "code",
   "execution_count": 9,
   "metadata": {},
   "outputs": [
    {
     "data": {
      "text/plain": [
       "Cartman         9774\n",
       "Stan            7680\n",
       "Kyle            7099\n",
       "Butters         2602\n",
       "Randy           2467\n",
       "Mr. Garrison    1002\n",
       "Chef             917\n",
       "Kenny            881\n",
       "Sharon           862\n",
       "Mr. Mackey       633\n",
       "Name: Character, dtype: int64"
      ]
     },
     "execution_count": 9,
     "metadata": {},
     "output_type": "execute_result"
    }
   ],
   "source": [
    "# Les personnes et leur nombre de dialiogues. Classées par ordre decroissant\n",
    "dataset['Character'].value_counts().head(10)"
   ]
  },
  {
   "cell_type": "code",
   "execution_count": 10,
   "metadata": {},
   "outputs": [
    {
     "data": {
      "text/plain": [
       "Black Man 2        1\n",
       "FDA Agent 1        1\n",
       "Looter 2           1\n",
       "PA System          1\n",
       "Tech 5             1\n",
       "Peters             1\n",
       "Mrs. Melman        1\n",
       "Other Cardinals    1\n",
       "A skier            1\n",
       "Man in briefs      1\n",
       "Name: Character, dtype: int64"
      ]
     },
     "execution_count": 10,
     "metadata": {},
     "output_type": "execute_result"
    }
   ],
   "source": [
    "# Les personnes avec le moins de dialogues\n",
    "dataset['Character'].value_counts().tail(10)"
   ]
  },
  {
   "cell_type": "markdown",
   "metadata": {},
   "source": [
    "On constate qu'il existe de nombreux personnages avec très peu de dialogues. Nous les considerons comme des personnages secondaires. Par contre on remarque 5 personnages prédominants avec plus de 2000 dialogues. Nous les considerons comme les personnages principaux. Ainsi, nous laissons tomber les autres personnages et ne gardons que les cinq prédominants."
   ]
  },
  {
   "cell_type": "code",
   "execution_count": 11,
   "metadata": {},
   "outputs": [],
   "source": [
    "# Retenir les personnonges prédonimants\n",
    "\n",
    "dataset = dataset.groupby('Character').filter(lambda x: len(x) > 2000)"
   ]
  },
  {
   "cell_type": "code",
   "execution_count": 12,
   "metadata": {},
   "outputs": [
    {
     "data": {
      "text/plain": [
       "Cartman    9774\n",
       "Stan       7680\n",
       "Kyle       7099\n",
       "Butters    2602\n",
       "Randy      2467\n",
       "Name: Character, dtype: int64"
      ]
     },
     "execution_count": 12,
     "metadata": {},
     "output_type": "execute_result"
    }
   ],
   "source": [
    "dataset['Character'].value_counts()"
   ]
  },
  {
   "cell_type": "markdown",
   "metadata": {},
   "source": [
    " On obtient ainsi 5 etiquettes de classifications: Cartman, Stan, Kyle, Butters, Randy."
   ]
  },
  {
   "cell_type": "markdown",
   "metadata": {},
   "source": [
    "## Prétraitement de texte\n",
    "\n",
    "Nettoyons le jeu de données afin de l'exploiter, Séparqtion des textes en mots."
   ]
  },
  {
   "cell_type": "markdown",
   "metadata": {},
   "source": [
    "#### Enlever les retours à la ligne"
   ]
  },
  {
   "cell_type": "code",
   "execution_count": 13,
   "metadata": {},
   "outputs": [],
   "source": [
    "dataset['Line'] = dataset['Line'].replace({'\\n': ' '}, regex=True)"
   ]
  },
  {
   "cell_type": "code",
   "execution_count": 14,
   "metadata": {},
   "outputs": [
    {
     "data": {
      "text/html": [
       "<div>\n",
       "<style scoped>\n",
       "    .dataframe tbody tr th:only-of-type {\n",
       "        vertical-align: middle;\n",
       "    }\n",
       "\n",
       "    .dataframe tbody tr th {\n",
       "        vertical-align: top;\n",
       "    }\n",
       "\n",
       "    .dataframe thead th {\n",
       "        text-align: right;\n",
       "    }\n",
       "</style>\n",
       "<table border=\"1\" class=\"dataframe\">\n",
       "  <thead>\n",
       "    <tr style=\"text-align: right;\">\n",
       "      <th></th>\n",
       "      <th>Season</th>\n",
       "      <th>Episode</th>\n",
       "      <th>Character</th>\n",
       "      <th>Line</th>\n",
       "    </tr>\n",
       "  </thead>\n",
       "  <tbody>\n",
       "    <tr>\n",
       "      <th>0</th>\n",
       "      <td>10</td>\n",
       "      <td>1</td>\n",
       "      <td>Stan</td>\n",
       "      <td>You guys, you guys! Chef is going away.</td>\n",
       "    </tr>\n",
       "    <tr>\n",
       "      <th>1</th>\n",
       "      <td>10</td>\n",
       "      <td>1</td>\n",
       "      <td>Kyle</td>\n",
       "      <td>Going away? For how long?</td>\n",
       "    </tr>\n",
       "    <tr>\n",
       "      <th>2</th>\n",
       "      <td>10</td>\n",
       "      <td>1</td>\n",
       "      <td>Stan</td>\n",
       "      <td>Forever.</td>\n",
       "    </tr>\n",
       "    <tr>\n",
       "      <th>4</th>\n",
       "      <td>10</td>\n",
       "      <td>1</td>\n",
       "      <td>Stan</td>\n",
       "      <td>Chef said he's been bored, so he joining a gro...</td>\n",
       "    </tr>\n",
       "    <tr>\n",
       "      <th>9</th>\n",
       "      <td>10</td>\n",
       "      <td>1</td>\n",
       "      <td>Cartman</td>\n",
       "      <td>I'm gonna miss him.  I'm gonna miss Chef and I...</td>\n",
       "    </tr>\n",
       "  </tbody>\n",
       "</table>\n",
       "</div>"
      ],
      "text/plain": [
       "  Season Episode Character                                               Line\n",
       "0     10       1      Stan          You guys, you guys! Chef is going away.  \n",
       "1     10       1      Kyle                         Going away? For how long? \n",
       "2     10       1      Stan                                          Forever. \n",
       "4     10       1      Stan  Chef said he's been bored, so he joining a gro...\n",
       "9     10       1   Cartman  I'm gonna miss him.  I'm gonna miss Chef and I..."
      ]
     },
     "execution_count": 14,
     "metadata": {},
     "output_type": "execute_result"
    }
   ],
   "source": [
    "dataset.head()"
   ]
  },
  {
   "cell_type": "markdown",
   "metadata": {},
   "source": [
    "#### Tokenisation, Suppression des ponctuations, des caractères spéciaux"
   ]
  },
  {
   "cell_type": "code",
   "execution_count": 15,
   "metadata": {},
   "outputs": [
    {
     "name": "stdout",
     "output_type": "stream",
     "text": [
      "Requirement already satisfied: nltk in /home/daj/anaconda3/lib/python3.7/site-packages (3.5)\n",
      "Requirement already satisfied: tqdm in /home/daj/anaconda3/lib/python3.7/site-packages (from nltk) (4.54.1)\n",
      "Requirement already satisfied: regex in /home/daj/anaconda3/lib/python3.7/site-packages (from nltk) (2020.11.13)\n",
      "Requirement already satisfied: joblib in /home/daj/anaconda3/lib/python3.7/site-packages (from nltk) (1.0.0)\n",
      "Requirement already satisfied: click in /home/daj/anaconda3/lib/python3.7/site-packages (from nltk) (7.1.2)\n",
      "/home/daj/anaconda3/lib/python3.7/runpy.py:125: RuntimeWarning: 'nltk.downloader' found in sys.modules after import of package 'nltk', but prior to execution of 'nltk.downloader'; this may result in unpredictable behaviour\n",
      "  warn(RuntimeWarning(msg))\n",
      "[nltk_data] Downloading package stopwords to /home/daj/nltk_data...\n",
      "[nltk_data]   Package stopwords is already up-to-date!\n"
     ]
    }
   ],
   "source": [
    "!pip install nltk\n",
    "!python -m nltk.downloader stopwords"
   ]
  },
  {
   "cell_type": "code",
   "execution_count": 16,
   "metadata": {},
   "outputs": [
    {
     "name": "stdout",
     "output_type": "stream",
     "text": [
      "/home/daj/anaconda3/lib/python3.7/runpy.py:125: RuntimeWarning: 'nltk.downloader' found in sys.modules after import of package 'nltk', but prior to execution of 'nltk.downloader'; this may result in unpredictable behaviour\n",
      "  warn(RuntimeWarning(msg))\n",
      "[nltk_data] Downloading package averaged_perceptron_tagger to\n",
      "[nltk_data]     /home/daj/nltk_data...\n",
      "[nltk_data]   Package averaged_perceptron_tagger is already up-to-\n",
      "[nltk_data]       date!\n"
     ]
    }
   ],
   "source": [
    "!python -m nltk.downloader averaged_perceptron_tagger"
   ]
  },
  {
   "cell_type": "code",
   "execution_count": 17,
   "metadata": {},
   "outputs": [
    {
     "name": "stderr",
     "output_type": "stream",
     "text": [
      "[nltk_data] Downloading package stopwords to /home/daj/nltk_data...\n",
      "[nltk_data]   Package stopwords is already up-to-date!\n"
     ]
    }
   ],
   "source": [
    "import nltk\n",
    "import string\n",
    "from nltk.tokenize import word_tokenize\n",
    "from nltk.corpus import stopwords\n",
    "nltk.download('stopwords')\n",
    "# Liste des stopwords\n",
    "stopwords = set(stopwords.words('english'))"
   ]
  },
  {
   "cell_type": "code",
   "execution_count": 18,
   "metadata": {},
   "outputs": [],
   "source": [
    "def preprocess_texte(phrase):\n",
    "    \n",
    "    #Tokenisation\n",
    "    tokens = nltk.word_tokenize(phrase)\n",
    "    \n",
    "    # Tenir compte que des mots avec plus d'un caractère\n",
    "    tokens = [token for token in tokens if len(token) > 1]\n",
    "    \n",
    "    #Convertir en miniscule\n",
    "    tokens = [word.lower() for word in tokens]\n",
    "    \n",
    "    #Supprimer la ponctuation et les caractères spéciaux\n",
    "    tokens = [word for word in tokens if word not in string.punctuation]\n",
    "    tokens = [word for word in tokens if word.isalnum()]\n",
    "    tokens = [word for word in tokens if not word.isdigit()]\n",
    "    \n",
    "    #Supprimer les stopwords\n",
    "    tokens = [word for word in tokens if word not in stopwords]\n",
    "\n",
    "                             \n",
    "    if len(tokens) > 1:\n",
    "        return tokens\n",
    "    return None\n",
    "\n",
    "dataset['cleaned_text'] = dataset['Line'].apply(preprocess_texte)"
   ]
  },
  {
   "cell_type": "code",
   "execution_count": 19,
   "metadata": {},
   "outputs": [
    {
     "data": {
      "text/html": [
       "<div>\n",
       "<style scoped>\n",
       "    .dataframe tbody tr th:only-of-type {\n",
       "        vertical-align: middle;\n",
       "    }\n",
       "\n",
       "    .dataframe tbody tr th {\n",
       "        vertical-align: top;\n",
       "    }\n",
       "\n",
       "    .dataframe thead th {\n",
       "        text-align: right;\n",
       "    }\n",
       "</style>\n",
       "<table border=\"1\" class=\"dataframe\">\n",
       "  <thead>\n",
       "    <tr style=\"text-align: right;\">\n",
       "      <th></th>\n",
       "      <th>Season</th>\n",
       "      <th>Episode</th>\n",
       "      <th>Character</th>\n",
       "      <th>Line</th>\n",
       "      <th>cleaned_text</th>\n",
       "    </tr>\n",
       "  </thead>\n",
       "  <tbody>\n",
       "    <tr>\n",
       "      <th>0</th>\n",
       "      <td>10</td>\n",
       "      <td>1</td>\n",
       "      <td>Stan</td>\n",
       "      <td>You guys, you guys! Chef is going away.</td>\n",
       "      <td>[guys, guys, chef, going, away]</td>\n",
       "    </tr>\n",
       "    <tr>\n",
       "      <th>1</th>\n",
       "      <td>10</td>\n",
       "      <td>1</td>\n",
       "      <td>Kyle</td>\n",
       "      <td>Going away? For how long?</td>\n",
       "      <td>[going, away, long]</td>\n",
       "    </tr>\n",
       "    <tr>\n",
       "      <th>2</th>\n",
       "      <td>10</td>\n",
       "      <td>1</td>\n",
       "      <td>Stan</td>\n",
       "      <td>Forever.</td>\n",
       "      <td>None</td>\n",
       "    </tr>\n",
       "    <tr>\n",
       "      <th>4</th>\n",
       "      <td>10</td>\n",
       "      <td>1</td>\n",
       "      <td>Stan</td>\n",
       "      <td>Chef said he's been bored, so he joining a gro...</td>\n",
       "      <td>[chef, said, bored, joining, group, called, su...</td>\n",
       "    </tr>\n",
       "    <tr>\n",
       "      <th>9</th>\n",
       "      <td>10</td>\n",
       "      <td>1</td>\n",
       "      <td>Cartman</td>\n",
       "      <td>I'm gonna miss him.  I'm gonna miss Chef and I...</td>\n",
       "      <td>[gon, na, miss, gon, na, miss, chef, know, tell]</td>\n",
       "    </tr>\n",
       "  </tbody>\n",
       "</table>\n",
       "</div>"
      ],
      "text/plain": [
       "  Season Episode Character                                               Line  \\\n",
       "0     10       1      Stan          You guys, you guys! Chef is going away.     \n",
       "1     10       1      Kyle                         Going away? For how long?    \n",
       "2     10       1      Stan                                          Forever.    \n",
       "4     10       1      Stan  Chef said he's been bored, so he joining a gro...   \n",
       "9     10       1   Cartman  I'm gonna miss him.  I'm gonna miss Chef and I...   \n",
       "\n",
       "                                        cleaned_text  \n",
       "0                    [guys, guys, chef, going, away]  \n",
       "1                                [going, away, long]  \n",
       "2                                               None  \n",
       "4  [chef, said, bored, joining, group, called, su...  \n",
       "9   [gon, na, miss, gon, na, miss, chef, know, tell]  "
      ]
     },
     "execution_count": 19,
     "metadata": {},
     "output_type": "execute_result"
    }
   ],
   "source": [
    "dataset.head()"
   ]
  },
  {
   "cell_type": "markdown",
   "metadata": {},
   "source": [
    "#### Supprimer les lignes vides, sans dialogues après le prétraitement"
   ]
  },
  {
   "cell_type": "code",
   "execution_count": 20,
   "metadata": {},
   "outputs": [
    {
     "data": {
      "text/plain": [
       "5698"
      ]
     },
     "execution_count": 20,
     "metadata": {},
     "output_type": "execute_result"
    }
   ],
   "source": [
    "dataset['cleaned_text'].isnull().sum()"
   ]
  },
  {
   "cell_type": "markdown",
   "metadata": {},
   "source": [
    "Il existe 5698 lignes sans dialogues. En effet les mots jugés non pertinent ont été enlevés  lors du prétraitement après application de nos filtres laissant ainsi des lignes sans mots"
   ]
  },
  {
   "cell_type": "code",
   "execution_count": 21,
   "metadata": {},
   "outputs": [],
   "source": [
    "dataset.dropna(subset=['cleaned_text'], inplace=True)"
   ]
  },
  {
   "cell_type": "code",
   "execution_count": 22,
   "metadata": {},
   "outputs": [
    {
     "data": {
      "text/plain": [
       "0"
      ]
     },
     "execution_count": 22,
     "metadata": {},
     "output_type": "execute_result"
    }
   ],
   "source": [
    "dataset['cleaned_text'].isnull().sum()"
   ]
  },
  {
   "cell_type": "code",
   "execution_count": 23,
   "metadata": {},
   "outputs": [
    {
     "data": {
      "text/html": [
       "<div>\n",
       "<style scoped>\n",
       "    .dataframe tbody tr th:only-of-type {\n",
       "        vertical-align: middle;\n",
       "    }\n",
       "\n",
       "    .dataframe tbody tr th {\n",
       "        vertical-align: top;\n",
       "    }\n",
       "\n",
       "    .dataframe thead th {\n",
       "        text-align: right;\n",
       "    }\n",
       "</style>\n",
       "<table border=\"1\" class=\"dataframe\">\n",
       "  <thead>\n",
       "    <tr style=\"text-align: right;\">\n",
       "      <th></th>\n",
       "      <th>Season</th>\n",
       "      <th>Episode</th>\n",
       "      <th>Character</th>\n",
       "      <th>Line</th>\n",
       "      <th>cleaned_text</th>\n",
       "    </tr>\n",
       "  </thead>\n",
       "  <tbody>\n",
       "    <tr>\n",
       "      <th>0</th>\n",
       "      <td>10</td>\n",
       "      <td>1</td>\n",
       "      <td>Stan</td>\n",
       "      <td>You guys, you guys! Chef is going away.</td>\n",
       "      <td>[guys, guys, chef, going, away]</td>\n",
       "    </tr>\n",
       "    <tr>\n",
       "      <th>1</th>\n",
       "      <td>10</td>\n",
       "      <td>1</td>\n",
       "      <td>Kyle</td>\n",
       "      <td>Going away? For how long?</td>\n",
       "      <td>[going, away, long]</td>\n",
       "    </tr>\n",
       "    <tr>\n",
       "      <th>4</th>\n",
       "      <td>10</td>\n",
       "      <td>1</td>\n",
       "      <td>Stan</td>\n",
       "      <td>Chef said he's been bored, so he joining a gro...</td>\n",
       "      <td>[chef, said, bored, joining, group, called, su...</td>\n",
       "    </tr>\n",
       "    <tr>\n",
       "      <th>9</th>\n",
       "      <td>10</td>\n",
       "      <td>1</td>\n",
       "      <td>Cartman</td>\n",
       "      <td>I'm gonna miss him.  I'm gonna miss Chef and I...</td>\n",
       "      <td>[gon, na, miss, gon, na, miss, chef, know, tell]</td>\n",
       "    </tr>\n",
       "    <tr>\n",
       "      <th>10</th>\n",
       "      <td>10</td>\n",
       "      <td>1</td>\n",
       "      <td>Stan</td>\n",
       "      <td>Dude, how are we gonna go on? Chef was our fuh...</td>\n",
       "      <td>[dude, gon, na, go, chef, fuh]</td>\n",
       "    </tr>\n",
       "  </tbody>\n",
       "</table>\n",
       "</div>"
      ],
      "text/plain": [
       "   Season Episode Character  \\\n",
       "0      10       1      Stan   \n",
       "1      10       1      Kyle   \n",
       "4      10       1      Stan   \n",
       "9      10       1   Cartman   \n",
       "10     10       1      Stan   \n",
       "\n",
       "                                                 Line  \\\n",
       "0           You guys, you guys! Chef is going away.     \n",
       "1                          Going away? For how long?    \n",
       "4   Chef said he's been bored, so he joining a gro...   \n",
       "9   I'm gonna miss him.  I'm gonna miss Chef and I...   \n",
       "10  Dude, how are we gonna go on? Chef was our fuh...   \n",
       "\n",
       "                                         cleaned_text  \n",
       "0                     [guys, guys, chef, going, away]  \n",
       "1                                 [going, away, long]  \n",
       "4   [chef, said, bored, joining, group, called, su...  \n",
       "9    [gon, na, miss, gon, na, miss, chef, know, tell]  \n",
       "10                     [dude, gon, na, go, chef, fuh]  "
      ]
     },
     "execution_count": 23,
     "metadata": {},
     "output_type": "execute_result"
    }
   ],
   "source": [
    "dataset.head()"
   ]
  },
  {
   "cell_type": "markdown",
   "metadata": {},
   "source": [
    "#### Calculer le nombre de mots de chaque dialogue"
   ]
  },
  {
   "cell_type": "code",
   "execution_count": 24,
   "metadata": {},
   "outputs": [],
   "source": [
    "dataset['dialogue_length'] = dataset['cleaned_text'].apply(lambda tokens: len(tokens))"
   ]
  },
  {
   "cell_type": "code",
   "execution_count": 25,
   "metadata": {},
   "outputs": [
    {
     "data": {
      "text/html": [
       "<div>\n",
       "<style scoped>\n",
       "    .dataframe tbody tr th:only-of-type {\n",
       "        vertical-align: middle;\n",
       "    }\n",
       "\n",
       "    .dataframe tbody tr th {\n",
       "        vertical-align: top;\n",
       "    }\n",
       "\n",
       "    .dataframe thead th {\n",
       "        text-align: right;\n",
       "    }\n",
       "</style>\n",
       "<table border=\"1\" class=\"dataframe\">\n",
       "  <thead>\n",
       "    <tr style=\"text-align: right;\">\n",
       "      <th></th>\n",
       "      <th>Season</th>\n",
       "      <th>Episode</th>\n",
       "      <th>Character</th>\n",
       "      <th>Line</th>\n",
       "      <th>cleaned_text</th>\n",
       "      <th>dialogue_length</th>\n",
       "    </tr>\n",
       "  </thead>\n",
       "  <tbody>\n",
       "    <tr>\n",
       "      <th>50839</th>\n",
       "      <td>5</td>\n",
       "      <td>3</td>\n",
       "      <td>Kyle</td>\n",
       "      <td>Cartman, you fatass tattle-tale!</td>\n",
       "      <td>[cartman, fatass]</td>\n",
       "      <td>2</td>\n",
       "    </tr>\n",
       "    <tr>\n",
       "      <th>56515</th>\n",
       "      <td>6</td>\n",
       "      <td>7</td>\n",
       "      <td>Stan</td>\n",
       "      <td>Well, drop them in!</td>\n",
       "      <td>[well, drop]</td>\n",
       "      <td>2</td>\n",
       "    </tr>\n",
       "    <tr>\n",
       "      <th>11080</th>\n",
       "      <td>13</td>\n",
       "      <td>4</td>\n",
       "      <td>Randy</td>\n",
       "      <td>Heh, yeah?</td>\n",
       "      <td>[heh, yeah]</td>\n",
       "      <td>2</td>\n",
       "    </tr>\n",
       "    <tr>\n",
       "      <th>11077</th>\n",
       "      <td>13</td>\n",
       "      <td>4</td>\n",
       "      <td>Randy</td>\n",
       "      <td>That's completely different!</td>\n",
       "      <td>[completely, different]</td>\n",
       "      <td>2</td>\n",
       "    </tr>\n",
       "    <tr>\n",
       "      <th>11071</th>\n",
       "      <td>13</td>\n",
       "      <td>4</td>\n",
       "      <td>Randy</td>\n",
       "      <td>Sharon! Marsh!</td>\n",
       "      <td>[sharon, marsh]</td>\n",
       "      <td>2</td>\n",
       "    </tr>\n",
       "  </tbody>\n",
       "</table>\n",
       "</div>"
      ],
      "text/plain": [
       "      Season Episode Character                               Line  \\\n",
       "50839      5       3      Kyle  Cartman, you fatass tattle-tale!    \n",
       "56515      6       7      Stan              Well, drop them in!     \n",
       "11080     13       4     Randy                        Heh, yeah?    \n",
       "11077     13       4     Randy      That's completely different!    \n",
       "11071     13       4     Randy                    Sharon! Marsh!    \n",
       "\n",
       "                  cleaned_text  dialogue_length  \n",
       "50839        [cartman, fatass]                2  \n",
       "56515             [well, drop]                2  \n",
       "11080              [heh, yeah]                2  \n",
       "11077  [completely, different]                2  \n",
       "11071          [sharon, marsh]                2  "
      ]
     },
     "execution_count": 25,
     "metadata": {},
     "output_type": "execute_result"
    }
   ],
   "source": [
    "dataset.sort_values('dialogue_length', inplace=True)\n",
    "dataset.head()"
   ]
  },
  {
   "cell_type": "code",
   "execution_count": 26,
   "metadata": {},
   "outputs": [
    {
     "name": "stdout",
     "output_type": "stream",
     "text": [
      "Line length statistics:\n",
      " count    23924.000000\n",
      "mean         6.592627\n",
      "std          6.269377\n",
      "min          2.000000\n",
      "25%          3.000000\n",
      "50%          5.000000\n",
      "75%          8.000000\n",
      "max        133.000000\n",
      "Name: dialogue_length, dtype: float64\n"
     ]
    },
    {
     "data": {
      "text/plain": [
       "array([[<AxesSubplot:title={'center':'Butters'}>,\n",
       "        <AxesSubplot:title={'center':'Cartman'}>],\n",
       "       [<AxesSubplot:title={'center':'Kyle'}>,\n",
       "        <AxesSubplot:title={'center':'Randy'}>],\n",
       "       [<AxesSubplot:title={'center':'Stan'}>, <AxesSubplot:>]],\n",
       "      dtype=object)"
      ]
     },
     "execution_count": 26,
     "metadata": {},
     "output_type": "execute_result"
    },
    {
     "data": {
      "image/png": "[encoded data removed]",
      "text/plain": [
       "<Figure size 1080x864 with 6 Axes>"
      ]
     },
     "metadata": {
      "needs_background": "light"
     },
     "output_type": "display_data"
    }
   ],
   "source": [
    "print('Line length statistics:\\n', dataset['dialogue_length'].describe())\n",
    "dataset.hist(column='dialogue_length',by='Character',bins=20, figsize=(15,12))"
   ]
  },
  {
   "cell_type": "markdown",
   "metadata": {},
   "source": [
    "Le minimum de mot dans un dialogue est de 2, le max 133. La moyenne est d'environ 6. Aussi on remarque que les dialogues sont généralement très courts. En effet, ces lignes contiennent des informations moins pertinentes. Elles peuvent biaiser le modèle.\n",
    "\n",
    "Cartman et Randy utilisent des phrases plus longues)"
   ]
  },
  {
   "cell_type": "markdown",
   "metadata": {},
   "source": [
    "#### Supprimer les lignes contenant moins de 6 mots(moyenne de mots contenu dans un dialogue)"
   ]
  },
  {
   "cell_type": "code",
   "execution_count": 27,
   "metadata": {},
   "outputs": [],
   "source": [
    "dataset = dataset[dataset['dialogue_length']>5]"
   ]
  },
  {
   "cell_type": "code",
   "execution_count": 28,
   "metadata": {},
   "outputs": [
    {
     "data": {
      "text/html": [
       "<div>\n",
       "<style scoped>\n",
       "    .dataframe tbody tr th:only-of-type {\n",
       "        vertical-align: middle;\n",
       "    }\n",
       "\n",
       "    .dataframe tbody tr th {\n",
       "        vertical-align: top;\n",
       "    }\n",
       "\n",
       "    .dataframe thead th {\n",
       "        text-align: right;\n",
       "    }\n",
       "</style>\n",
       "<table border=\"1\" class=\"dataframe\">\n",
       "  <thead>\n",
       "    <tr style=\"text-align: right;\">\n",
       "      <th></th>\n",
       "      <th>Season</th>\n",
       "      <th>Episode</th>\n",
       "      <th>Character</th>\n",
       "      <th>Line</th>\n",
       "      <th>cleaned_text</th>\n",
       "      <th>dialogue_length</th>\n",
       "    </tr>\n",
       "  </thead>\n",
       "  <tbody>\n",
       "    <tr>\n",
       "      <th>52733</th>\n",
       "      <td>5</td>\n",
       "      <td>9</td>\n",
       "      <td>Stan</td>\n",
       "      <td>No, dude, we're n- we're not ungrateful. It's ...</td>\n",
       "      <td>[dude, ungrateful, none, us, keep, goat]</td>\n",
       "      <td>6</td>\n",
       "    </tr>\n",
       "    <tr>\n",
       "      <th>13871</th>\n",
       "      <td>14</td>\n",
       "      <td>2</td>\n",
       "      <td>Butters</td>\n",
       "      <td>Uh... yeah, pretty much, I think, think so.</td>\n",
       "      <td>[uh, yeah, pretty, much, think, think]</td>\n",
       "      <td>6</td>\n",
       "    </tr>\n",
       "    <tr>\n",
       "      <th>18620</th>\n",
       "      <td>15</td>\n",
       "      <td>9</td>\n",
       "      <td>Stan</td>\n",
       "      <td>So, so then, so then the pope says, \"Maybe you...</td>\n",
       "      <td>[pope, says, maybe, go, check, toilet]</td>\n",
       "      <td>6</td>\n",
       "    </tr>\n",
       "    <tr>\n",
       "      <th>26100</th>\n",
       "      <td>18</td>\n",
       "      <td>2</td>\n",
       "      <td>Kyle</td>\n",
       "      <td>We're not bailing on the party, we're just thi...</td>\n",
       "      <td>[bailing, party, think, important, things, right]</td>\n",
       "      <td>6</td>\n",
       "    </tr>\n",
       "    <tr>\n",
       "      <th>1262</th>\n",
       "      <td>10</td>\n",
       "      <td>6</td>\n",
       "      <td>Stan</td>\n",
       "      <td>But I feel kind of bad for him, Dad. I don't t...</td>\n",
       "      <td>[feel, kind, bad, dad, think, friends]</td>\n",
       "      <td>6</td>\n",
       "    </tr>\n",
       "  </tbody>\n",
       "</table>\n",
       "</div>"
      ],
      "text/plain": [
       "      Season Episode Character  \\\n",
       "52733      5       9      Stan   \n",
       "13871     14       2   Butters   \n",
       "18620     15       9      Stan   \n",
       "26100     18       2      Kyle   \n",
       "1262      10       6      Stan   \n",
       "\n",
       "                                                    Line  \\\n",
       "52733  No, dude, we're n- we're not ungrateful. It's ...   \n",
       "13871       Uh... yeah, pretty much, I think, think so.    \n",
       "18620  So, so then, so then the pope says, \"Maybe you...   \n",
       "26100  We're not bailing on the party, we're just thi...   \n",
       "1262   But I feel kind of bad for him, Dad. I don't t...   \n",
       "\n",
       "                                            cleaned_text  dialogue_length  \n",
       "52733           [dude, ungrateful, none, us, keep, goat]                6  \n",
       "13871             [uh, yeah, pretty, much, think, think]                6  \n",
       "18620             [pope, says, maybe, go, check, toilet]                6  \n",
       "26100  [bailing, party, think, important, things, right]                6  \n",
       "1262              [feel, kind, bad, dad, think, friends]                6  "
      ]
     },
     "execution_count": 28,
     "metadata": {},
     "output_type": "execute_result"
    }
   ],
   "source": [
    "dataset.head()"
   ]
  },
  {
   "cell_type": "markdown",
   "metadata": {},
   "source": [
    "### Autres statistiques"
   ]
  },
  {
   "cell_type": "markdown",
   "metadata": {},
   "source": [
    "#### Les termes les plus courants du corpus"
   ]
  },
  {
   "cell_type": "code",
   "execution_count": 29,
   "metadata": {},
   "outputs": [
    {
     "name": "stdout",
     "output_type": "stream",
     "text": [
      "[('na', 1559), ('get', 1255), ('oh', 1187), ('gon', 1161), ('know', 1070), ('go', 1043), ('like', 1022), ('got', 978), ('guys', 952), ('well', 929), ('right', 882), ('yeah', 854), ('kyle', 845), ('us', 805), ('see', 746), ('people', 746), ('dude', 740), ('come', 709), ('think', 691), ('let', 627), ('ca', 608), ('uh', 582), ('really', 569), ('look', 565), ('one', 563)]\n"
     ]
    }
   ],
   "source": [
    "freq = nltk.FreqDist(np.hstack(dataset['cleaned_text']))\n",
    "\n",
    "# Les 25 termes les plus courants du corpus\n",
    "print(freq.most_common(25))"
   ]
  },
  {
   "cell_type": "markdown",
   "metadata": {},
   "source": [
    "#### Co-occurences\n",
    "représenter le texte en groupe de plusieurs mots adjacents: n-grammes"
   ]
  },
  {
   "cell_type": "code",
   "execution_count": 30,
   "metadata": {},
   "outputs": [
    {
     "data": {
      "text/plain": [
       "[('dude', 'ungrateful'),\n",
       " ('ungrateful', 'none'),\n",
       " ('none', 'us'),\n",
       " ('us', 'keep'),\n",
       " ('keep', 'goat'),\n",
       " ('goat', 'uh'),\n",
       " ('uh', 'yeah'),\n",
       " ('yeah', 'pretty'),\n",
       " ('pretty', 'much'),\n",
       " ('much', 'think')]"
      ]
     },
     "execution_count": 30,
     "metadata": {},
     "output_type": "execute_result"
    }
   ],
   "source": [
    "# 2gram\n",
    "list(nltk.ngrams(np.hstack(dataset['cleaned_text']),2))[:10]"
   ]
  },
  {
   "cell_type": "code",
   "execution_count": 31,
   "metadata": {},
   "outputs": [
    {
     "data": {
      "text/plain": [
       "[('dude', 'ungrateful', 'none'),\n",
       " ('ungrateful', 'none', 'us'),\n",
       " ('none', 'us', 'keep'),\n",
       " ('us', 'keep', 'goat'),\n",
       " ('keep', 'goat', 'uh'),\n",
       " ('goat', 'uh', 'yeah'),\n",
       " ('uh', 'yeah', 'pretty'),\n",
       " ('yeah', 'pretty', 'much'),\n",
       " ('pretty', 'much', 'think'),\n",
       " ('much', 'think', 'think')]"
      ]
     },
     "execution_count": 31,
     "metadata": {},
     "output_type": "execute_result"
    }
   ],
   "source": [
    "# 3gram\n",
    "list(nltk.ngrams(np.hstack(dataset['cleaned_text']),3))[:10]"
   ]
  },
  {
   "cell_type": "code",
   "execution_count": 32,
   "metadata": {},
   "outputs": [
    {
     "data": {
      "text/plain": [
       "[('dude', 'ungrateful', 'none', 'us'),\n",
       " ('ungrateful', 'none', 'us', 'keep'),\n",
       " ('none', 'us', 'keep', 'goat'),\n",
       " ('us', 'keep', 'goat', 'uh'),\n",
       " ('keep', 'goat', 'uh', 'yeah'),\n",
       " ('goat', 'uh', 'yeah', 'pretty'),\n",
       " ('uh', 'yeah', 'pretty', 'much'),\n",
       " ('yeah', 'pretty', 'much', 'think'),\n",
       " ('pretty', 'much', 'think', 'think'),\n",
       " ('much', 'think', 'think', 'pope')]"
      ]
     },
     "execution_count": 32,
     "metadata": {},
     "output_type": "execute_result"
    }
   ],
   "source": [
    "# 4gram\n",
    "list(nltk.ngrams(np.hstack(dataset['cleaned_text']),4))[:10]"
   ]
  },
  {
   "cell_type": "markdown",
   "metadata": {},
   "source": [
    "#### Convertir la liste des mots des dialogues au format textuel"
   ]
  },
  {
   "cell_type": "code",
   "execution_count": 33,
   "metadata": {},
   "outputs": [],
   "source": [
    "dataset['cleaned_text'] = dataset['cleaned_text'].apply(lambda x: ' '.join([item for item in x]))"
   ]
  },
  {
   "cell_type": "code",
   "execution_count": 34,
   "metadata": {},
   "outputs": [
    {
     "name": "stdout",
     "output_type": "stream",
     "text": [
      "10273\n",
      "Cartman    4220\n",
      "Stan       2183\n",
      "Kyle       1943\n",
      "Randy      1005\n",
      "Butters     922\n",
      "Name: Character, dtype: int64\n"
     ]
    }
   ],
   "source": [
    "print(dataset.shape[0])\n",
    "print(dataset['Character'].value_counts())"
   ]
  },
  {
   "cell_type": "markdown",
   "metadata": {},
   "source": [
    "Il nous reste 10273 à l'issu de l'etape de prétraitement. Cartman est la classe prédominante comme on peut le constater"
   ]
  },
  {
   "cell_type": "markdown",
   "metadata": {},
   "source": [
    "### Lemmatization: Prise en compte du contexte"
   ]
  },
  {
   "cell_type": "code",
   "execution_count": 35,
   "metadata": {},
   "outputs": [],
   "source": [
    "from nltk.corpus import wordnet\n",
    "from nltk.stem.wordnet import WordNetLemmatizer"
   ]
  },
  {
   "cell_type": "code",
   "execution_count": 36,
   "metadata": {},
   "outputs": [],
   "source": [
    "POS_TAG_CORRESPONDANCE = {\"j\": wordnet.ADJ,\n",
    "                              \"n\": wordnet.NOUN, \n",
    "                              \"v\": wordnet.VERB, \n",
    "                              \"r\": wordnet.ADV}"
   ]
  },
  {
   "cell_type": "code",
   "execution_count": 37,
   "metadata": {},
   "outputs": [],
   "source": [
    "# Initialiser WordNet Lemmatizer\n",
    "lemmatizer = WordNetLemmatizer()\n",
    "\n",
    "def lemmatisation(phrase):\n",
    "    #Dictionnaire pour definir les correspondance entre la valeur renvoyé par nltk.pos_tag et Wordnet \n",
    "    #qu'on passera en paramètre\n",
    "    POS_TAG_CORRESPONDANCE = {\"j\": wordnet.ADJ,\n",
    "                              \"n\": wordnet.NOUN, \n",
    "                              \"v\": wordnet.VERB, \n",
    "                              \"r\": wordnet.ADV}\n",
    "\n",
    "    # Appliquer la lemmatization en fonction du pos_tag.\n",
    "    tokens = nltk.word_tokenize(phrase)\n",
    "    for idx, word in enumerate(nltk.pos_tag(tokens)):\n",
    "        #print(word)\n",
    "        l = word[1][0].lower()\n",
    "        if l in POS_TAG_CORRESPONDANCE.keys():\n",
    "            pos_tag_word = POS_TAG_CORRESPONDANCE.get(l)\n",
    "        else:\n",
    "            pos_tag_word = wordnet.NOUN\n",
    "        #print(pos_tag_word)\n",
    "        tokens[idx] = lemmatizer.lemmatize(word[0], pos_tag_word)\n",
    "        \n",
    "        #print(lemmatizer.lemmatize(word[0], tag_word))\n",
    "                             \n",
    "    if len(tokens) > 1:\n",
    "        return tokens\n",
    "    return None\n",
    "\n",
    "dataset['lemmatized_text'] = dataset['cleaned_text'].apply(lemmatisation)\n",
    "dataset['lemmatized_text'] = dataset['lemmatized_text'].apply(lambda x: ' '.join([item for item in x]))"
   ]
  },
  {
   "cell_type": "code",
   "execution_count": 38,
   "metadata": {},
   "outputs": [
    {
     "data": {
      "text/html": [
       "<div>\n",
       "<style scoped>\n",
       "    .dataframe tbody tr th:only-of-type {\n",
       "        vertical-align: middle;\n",
       "    }\n",
       "\n",
       "    .dataframe tbody tr th {\n",
       "        vertical-align: top;\n",
       "    }\n",
       "\n",
       "    .dataframe thead th {\n",
       "        text-align: right;\n",
       "    }\n",
       "</style>\n",
       "<table border=\"1\" class=\"dataframe\">\n",
       "  <thead>\n",
       "    <tr style=\"text-align: right;\">\n",
       "      <th></th>\n",
       "      <th>Season</th>\n",
       "      <th>Episode</th>\n",
       "      <th>Character</th>\n",
       "      <th>Line</th>\n",
       "      <th>cleaned_text</th>\n",
       "      <th>dialogue_length</th>\n",
       "      <th>lemmatized_text</th>\n",
       "    </tr>\n",
       "  </thead>\n",
       "  <tbody>\n",
       "    <tr>\n",
       "      <th>52733</th>\n",
       "      <td>5</td>\n",
       "      <td>9</td>\n",
       "      <td>Stan</td>\n",
       "      <td>No, dude, we're n- we're not ungrateful. It's ...</td>\n",
       "      <td>dude ungrateful none us keep goat</td>\n",
       "      <td>6</td>\n",
       "      <td>dude ungrateful none u keep goat</td>\n",
       "    </tr>\n",
       "    <tr>\n",
       "      <th>13871</th>\n",
       "      <td>14</td>\n",
       "      <td>2</td>\n",
       "      <td>Butters</td>\n",
       "      <td>Uh... yeah, pretty much, I think, think so.</td>\n",
       "      <td>uh yeah pretty much think think</td>\n",
       "      <td>6</td>\n",
       "      <td>uh yeah pretty much think think</td>\n",
       "    </tr>\n",
       "    <tr>\n",
       "      <th>18620</th>\n",
       "      <td>15</td>\n",
       "      <td>9</td>\n",
       "      <td>Stan</td>\n",
       "      <td>So, so then, so then the pope says, \"Maybe you...</td>\n",
       "      <td>pope says maybe go check toilet</td>\n",
       "      <td>6</td>\n",
       "      <td>pope say maybe go check toilet</td>\n",
       "    </tr>\n",
       "    <tr>\n",
       "      <th>26100</th>\n",
       "      <td>18</td>\n",
       "      <td>2</td>\n",
       "      <td>Kyle</td>\n",
       "      <td>We're not bailing on the party, we're just thi...</td>\n",
       "      <td>bailing party think important things right</td>\n",
       "      <td>6</td>\n",
       "      <td>bail party think important thing right</td>\n",
       "    </tr>\n",
       "    <tr>\n",
       "      <th>1262</th>\n",
       "      <td>10</td>\n",
       "      <td>6</td>\n",
       "      <td>Stan</td>\n",
       "      <td>But I feel kind of bad for him, Dad. I don't t...</td>\n",
       "      <td>feel kind bad dad think friends</td>\n",
       "      <td>6</td>\n",
       "      <td>feel kind bad dad think friend</td>\n",
       "    </tr>\n",
       "  </tbody>\n",
       "</table>\n",
       "</div>"
      ],
      "text/plain": [
       "      Season Episode Character  \\\n",
       "52733      5       9      Stan   \n",
       "13871     14       2   Butters   \n",
       "18620     15       9      Stan   \n",
       "26100     18       2      Kyle   \n",
       "1262      10       6      Stan   \n",
       "\n",
       "                                                    Line  \\\n",
       "52733  No, dude, we're n- we're not ungrateful. It's ...   \n",
       "13871       Uh... yeah, pretty much, I think, think so.    \n",
       "18620  So, so then, so then the pope says, \"Maybe you...   \n",
       "26100  We're not bailing on the party, we're just thi...   \n",
       "1262   But I feel kind of bad for him, Dad. I don't t...   \n",
       "\n",
       "                                     cleaned_text  dialogue_length  \\\n",
       "52733           dude ungrateful none us keep goat                6   \n",
       "13871             uh yeah pretty much think think                6   \n",
       "18620             pope says maybe go check toilet                6   \n",
       "26100  bailing party think important things right                6   \n",
       "1262              feel kind bad dad think friends                6   \n",
       "\n",
       "                              lemmatized_text  \n",
       "52733        dude ungrateful none u keep goat  \n",
       "13871         uh yeah pretty much think think  \n",
       "18620          pope say maybe go check toilet  \n",
       "26100  bail party think important thing right  \n",
       "1262           feel kind bad dad think friend  "
      ]
     },
     "execution_count": 38,
     "metadata": {},
     "output_type": "execute_result"
    }
   ],
   "source": [
    "dataset.head()"
   ]
  },
  {
   "cell_type": "markdown",
   "metadata": {},
   "source": [
    "### Racinisation"
   ]
  },
  {
   "cell_type": "code",
   "execution_count": 39,
   "metadata": {},
   "outputs": [],
   "source": [
    "from nltk.stem.snowball import EnglishStemmer\n",
    "stemmer = EnglishStemmer()"
   ]
  },
  {
   "cell_type": "code",
   "execution_count": 40,
   "metadata": {},
   "outputs": [],
   "source": [
    "def preprocess_stemming(phrase):\n",
    "    \n",
    "    #Tokenisation\n",
    "    tokens = nltk.word_tokenize(phrase)\n",
    "    \n",
    "    # La racinisation\n",
    "    tokens = [stemmer.stem(token) for token in tokens ]\n",
    "                             \n",
    "    if len(tokens) > 1:\n",
    "        return tokens\n",
    "    return None\n",
    "\n",
    "dataset['stemming_text'] = dataset['cleaned_text'].apply(preprocess_stemming)\n",
    "dataset['stemming_text'] = dataset['stemming_text'].apply(lambda x: ' '.join([item for item in x]))"
   ]
  },
  {
   "cell_type": "code",
   "execution_count": 41,
   "metadata": {},
   "outputs": [
    {
     "data": {
      "text/html": [
       "<div>\n",
       "<style scoped>\n",
       "    .dataframe tbody tr th:only-of-type {\n",
       "        vertical-align: middle;\n",
       "    }\n",
       "\n",
       "    .dataframe tbody tr th {\n",
       "        vertical-align: top;\n",
       "    }\n",
       "\n",
       "    .dataframe thead th {\n",
       "        text-align: right;\n",
       "    }\n",
       "</style>\n",
       "<table border=\"1\" class=\"dataframe\">\n",
       "  <thead>\n",
       "    <tr style=\"text-align: right;\">\n",
       "      <th></th>\n",
       "      <th>Season</th>\n",
       "      <th>Episode</th>\n",
       "      <th>Character</th>\n",
       "      <th>Line</th>\n",
       "      <th>cleaned_text</th>\n",
       "      <th>dialogue_length</th>\n",
       "      <th>lemmatized_text</th>\n",
       "      <th>stemming_text</th>\n",
       "    </tr>\n",
       "  </thead>\n",
       "  <tbody>\n",
       "    <tr>\n",
       "      <th>52733</th>\n",
       "      <td>5</td>\n",
       "      <td>9</td>\n",
       "      <td>Stan</td>\n",
       "      <td>No, dude, we're n- we're not ungrateful. It's ...</td>\n",
       "      <td>dude ungrateful none us keep goat</td>\n",
       "      <td>6</td>\n",
       "      <td>dude ungrateful none u keep goat</td>\n",
       "      <td>dude ungrat none us keep goat</td>\n",
       "    </tr>\n",
       "    <tr>\n",
       "      <th>13871</th>\n",
       "      <td>14</td>\n",
       "      <td>2</td>\n",
       "      <td>Butters</td>\n",
       "      <td>Uh... yeah, pretty much, I think, think so.</td>\n",
       "      <td>uh yeah pretty much think think</td>\n",
       "      <td>6</td>\n",
       "      <td>uh yeah pretty much think think</td>\n",
       "      <td>uh yeah pretti much think think</td>\n",
       "    </tr>\n",
       "    <tr>\n",
       "      <th>18620</th>\n",
       "      <td>15</td>\n",
       "      <td>9</td>\n",
       "      <td>Stan</td>\n",
       "      <td>So, so then, so then the pope says, \"Maybe you...</td>\n",
       "      <td>pope says maybe go check toilet</td>\n",
       "      <td>6</td>\n",
       "      <td>pope say maybe go check toilet</td>\n",
       "      <td>pope say mayb go check toilet</td>\n",
       "    </tr>\n",
       "    <tr>\n",
       "      <th>26100</th>\n",
       "      <td>18</td>\n",
       "      <td>2</td>\n",
       "      <td>Kyle</td>\n",
       "      <td>We're not bailing on the party, we're just thi...</td>\n",
       "      <td>bailing party think important things right</td>\n",
       "      <td>6</td>\n",
       "      <td>bail party think important thing right</td>\n",
       "      <td>bail parti think import thing right</td>\n",
       "    </tr>\n",
       "    <tr>\n",
       "      <th>1262</th>\n",
       "      <td>10</td>\n",
       "      <td>6</td>\n",
       "      <td>Stan</td>\n",
       "      <td>But I feel kind of bad for him, Dad. I don't t...</td>\n",
       "      <td>feel kind bad dad think friends</td>\n",
       "      <td>6</td>\n",
       "      <td>feel kind bad dad think friend</td>\n",
       "      <td>feel kind bad dad think friend</td>\n",
       "    </tr>\n",
       "  </tbody>\n",
       "</table>\n",
       "</div>"
      ],
      "text/plain": [
       "      Season Episode Character  \\\n",
       "52733      5       9      Stan   \n",
       "13871     14       2   Butters   \n",
       "18620     15       9      Stan   \n",
       "26100     18       2      Kyle   \n",
       "1262      10       6      Stan   \n",
       "\n",
       "                                                    Line  \\\n",
       "52733  No, dude, we're n- we're not ungrateful. It's ...   \n",
       "13871       Uh... yeah, pretty much, I think, think so.    \n",
       "18620  So, so then, so then the pope says, \"Maybe you...   \n",
       "26100  We're not bailing on the party, we're just thi...   \n",
       "1262   But I feel kind of bad for him, Dad. I don't t...   \n",
       "\n",
       "                                     cleaned_text  dialogue_length  \\\n",
       "52733           dude ungrateful none us keep goat                6   \n",
       "13871             uh yeah pretty much think think                6   \n",
       "18620             pope says maybe go check toilet                6   \n",
       "26100  bailing party think important things right                6   \n",
       "1262              feel kind bad dad think friends                6   \n",
       "\n",
       "                              lemmatized_text  \\\n",
       "52733        dude ungrateful none u keep goat   \n",
       "13871         uh yeah pretty much think think   \n",
       "18620          pope say maybe go check toilet   \n",
       "26100  bail party think important thing right   \n",
       "1262           feel kind bad dad think friend   \n",
       "\n",
       "                             stemming_text  \n",
       "52733        dude ungrat none us keep goat  \n",
       "13871      uh yeah pretti much think think  \n",
       "18620        pope say mayb go check toilet  \n",
       "26100  bail parti think import thing right  \n",
       "1262        feel kind bad dad think friend  "
      ]
     },
     "execution_count": 41,
     "metadata": {},
     "output_type": "execute_result"
    }
   ],
   "source": [
    "dataset.head()"
   ]
  },
  {
   "cell_type": "markdown",
   "metadata": {},
   "source": [
    "## Representation des mots"
   ]
  },
  {
   "cell_type": "markdown",
   "metadata": {},
   "source": [
    "### Sac de mots"
   ]
  },
  {
   "cell_type": "code",
   "execution_count": 42,
   "metadata": {},
   "outputs": [],
   "source": [
    "from sklearn.feature_extraction.text import CountVectorizer"
   ]
  },
  {
   "cell_type": "code",
   "execution_count": 43,
   "metadata": {},
   "outputs": [
    {
     "data": {
      "text/html": [
       "<div>\n",
       "<style scoped>\n",
       "    .dataframe tbody tr th:only-of-type {\n",
       "        vertical-align: middle;\n",
       "    }\n",
       "\n",
       "    .dataframe tbody tr th {\n",
       "        vertical-align: top;\n",
       "    }\n",
       "\n",
       "    .dataframe thead th {\n",
       "        text-align: right;\n",
       "    }\n",
       "</style>\n",
       "<table border=\"1\" class=\"dataframe\">\n",
       "  <thead>\n",
       "    <tr style=\"text-align: right;\">\n",
       "      <th></th>\n",
       "      <th>0</th>\n",
       "      <th>1</th>\n",
       "      <th>2</th>\n",
       "      <th>3</th>\n",
       "      <th>4</th>\n",
       "      <th>5</th>\n",
       "      <th>6</th>\n",
       "      <th>7</th>\n",
       "      <th>8</th>\n",
       "      <th>9</th>\n",
       "      <th>...</th>\n",
       "      <th>10263</th>\n",
       "      <th>10264</th>\n",
       "      <th>10265</th>\n",
       "      <th>10266</th>\n",
       "      <th>10267</th>\n",
       "      <th>10268</th>\n",
       "      <th>10269</th>\n",
       "      <th>10270</th>\n",
       "      <th>10271</th>\n",
       "      <th>10272</th>\n",
       "    </tr>\n",
       "  </thead>\n",
       "  <tbody>\n",
       "    <tr>\n",
       "      <th>aa</th>\n",
       "      <td>0</td>\n",
       "      <td>0</td>\n",
       "      <td>0</td>\n",
       "      <td>0</td>\n",
       "      <td>0</td>\n",
       "      <td>0</td>\n",
       "      <td>0</td>\n",
       "      <td>0</td>\n",
       "      <td>0</td>\n",
       "      <td>0</td>\n",
       "      <td>...</td>\n",
       "      <td>0</td>\n",
       "      <td>0</td>\n",
       "      <td>0</td>\n",
       "      <td>0</td>\n",
       "      <td>0</td>\n",
       "      <td>0</td>\n",
       "      <td>0</td>\n",
       "      <td>0</td>\n",
       "      <td>0</td>\n",
       "      <td>0</td>\n",
       "    </tr>\n",
       "    <tr>\n",
       "      <th>aaaah</th>\n",
       "      <td>0</td>\n",
       "      <td>0</td>\n",
       "      <td>0</td>\n",
       "      <td>0</td>\n",
       "      <td>0</td>\n",
       "      <td>0</td>\n",
       "      <td>0</td>\n",
       "      <td>0</td>\n",
       "      <td>0</td>\n",
       "      <td>0</td>\n",
       "      <td>...</td>\n",
       "      <td>0</td>\n",
       "      <td>0</td>\n",
       "      <td>0</td>\n",
       "      <td>0</td>\n",
       "      <td>0</td>\n",
       "      <td>0</td>\n",
       "      <td>0</td>\n",
       "      <td>0</td>\n",
       "      <td>0</td>\n",
       "      <td>0</td>\n",
       "    </tr>\n",
       "    <tr>\n",
       "      <th>aaah</th>\n",
       "      <td>0</td>\n",
       "      <td>0</td>\n",
       "      <td>0</td>\n",
       "      <td>0</td>\n",
       "      <td>0</td>\n",
       "      <td>0</td>\n",
       "      <td>0</td>\n",
       "      <td>0</td>\n",
       "      <td>0</td>\n",
       "      <td>0</td>\n",
       "      <td>...</td>\n",
       "      <td>0</td>\n",
       "      <td>0</td>\n",
       "      <td>0</td>\n",
       "      <td>0</td>\n",
       "      <td>0</td>\n",
       "      <td>0</td>\n",
       "      <td>0</td>\n",
       "      <td>0</td>\n",
       "      <td>0</td>\n",
       "      <td>0</td>\n",
       "    </tr>\n",
       "    <tr>\n",
       "      <th>aaahhh</th>\n",
       "      <td>0</td>\n",
       "      <td>0</td>\n",
       "      <td>0</td>\n",
       "      <td>0</td>\n",
       "      <td>0</td>\n",
       "      <td>0</td>\n",
       "      <td>0</td>\n",
       "      <td>0</td>\n",
       "      <td>0</td>\n",
       "      <td>0</td>\n",
       "      <td>...</td>\n",
       "      <td>0</td>\n",
       "      <td>0</td>\n",
       "      <td>0</td>\n",
       "      <td>0</td>\n",
       "      <td>0</td>\n",
       "      <td>0</td>\n",
       "      <td>0</td>\n",
       "      <td>0</td>\n",
       "      <td>0</td>\n",
       "      <td>0</td>\n",
       "    </tr>\n",
       "    <tr>\n",
       "      <th>aaand</th>\n",
       "      <td>0</td>\n",
       "      <td>0</td>\n",
       "      <td>0</td>\n",
       "      <td>0</td>\n",
       "      <td>0</td>\n",
       "      <td>0</td>\n",
       "      <td>0</td>\n",
       "      <td>0</td>\n",
       "      <td>0</td>\n",
       "      <td>0</td>\n",
       "      <td>...</td>\n",
       "      <td>0</td>\n",
       "      <td>0</td>\n",
       "      <td>0</td>\n",
       "      <td>0</td>\n",
       "      <td>0</td>\n",
       "      <td>0</td>\n",
       "      <td>0</td>\n",
       "      <td>0</td>\n",
       "      <td>0</td>\n",
       "      <td>0</td>\n",
       "    </tr>\n",
       "    <tr>\n",
       "      <th>aah</th>\n",
       "      <td>0</td>\n",
       "      <td>0</td>\n",
       "      <td>0</td>\n",
       "      <td>0</td>\n",
       "      <td>0</td>\n",
       "      <td>0</td>\n",
       "      <td>0</td>\n",
       "      <td>0</td>\n",
       "      <td>0</td>\n",
       "      <td>0</td>\n",
       "      <td>...</td>\n",
       "      <td>0</td>\n",
       "      <td>0</td>\n",
       "      <td>0</td>\n",
       "      <td>0</td>\n",
       "      <td>0</td>\n",
       "      <td>0</td>\n",
       "      <td>0</td>\n",
       "      <td>0</td>\n",
       "      <td>0</td>\n",
       "      <td>0</td>\n",
       "    </tr>\n",
       "    <tr>\n",
       "      <th>ability</th>\n",
       "      <td>0</td>\n",
       "      <td>0</td>\n",
       "      <td>0</td>\n",
       "      <td>0</td>\n",
       "      <td>0</td>\n",
       "      <td>0</td>\n",
       "      <td>0</td>\n",
       "      <td>0</td>\n",
       "      <td>0</td>\n",
       "      <td>0</td>\n",
       "      <td>...</td>\n",
       "      <td>0</td>\n",
       "      <td>0</td>\n",
       "      <td>0</td>\n",
       "      <td>0</td>\n",
       "      <td>0</td>\n",
       "      <td>0</td>\n",
       "      <td>0</td>\n",
       "      <td>0</td>\n",
       "      <td>0</td>\n",
       "      <td>0</td>\n",
       "    </tr>\n",
       "    <tr>\n",
       "      <th>able</th>\n",
       "      <td>0</td>\n",
       "      <td>0</td>\n",
       "      <td>0</td>\n",
       "      <td>0</td>\n",
       "      <td>0</td>\n",
       "      <td>0</td>\n",
       "      <td>0</td>\n",
       "      <td>0</td>\n",
       "      <td>0</td>\n",
       "      <td>0</td>\n",
       "      <td>...</td>\n",
       "      <td>0</td>\n",
       "      <td>0</td>\n",
       "      <td>0</td>\n",
       "      <td>0</td>\n",
       "      <td>0</td>\n",
       "      <td>0</td>\n",
       "      <td>0</td>\n",
       "      <td>0</td>\n",
       "      <td>0</td>\n",
       "      <td>0</td>\n",
       "    </tr>\n",
       "    <tr>\n",
       "      <th>aborted</th>\n",
       "      <td>0</td>\n",
       "      <td>0</td>\n",
       "      <td>0</td>\n",
       "      <td>0</td>\n",
       "      <td>0</td>\n",
       "      <td>0</td>\n",
       "      <td>0</td>\n",
       "      <td>0</td>\n",
       "      <td>0</td>\n",
       "      <td>0</td>\n",
       "      <td>...</td>\n",
       "      <td>1</td>\n",
       "      <td>0</td>\n",
       "      <td>0</td>\n",
       "      <td>0</td>\n",
       "      <td>0</td>\n",
       "      <td>0</td>\n",
       "      <td>0</td>\n",
       "      <td>0</td>\n",
       "      <td>2</td>\n",
       "      <td>0</td>\n",
       "    </tr>\n",
       "    <tr>\n",
       "      <th>abortion</th>\n",
       "      <td>0</td>\n",
       "      <td>0</td>\n",
       "      <td>0</td>\n",
       "      <td>0</td>\n",
       "      <td>0</td>\n",
       "      <td>0</td>\n",
       "      <td>0</td>\n",
       "      <td>0</td>\n",
       "      <td>0</td>\n",
       "      <td>0</td>\n",
       "      <td>...</td>\n",
       "      <td>0</td>\n",
       "      <td>0</td>\n",
       "      <td>0</td>\n",
       "      <td>0</td>\n",
       "      <td>0</td>\n",
       "      <td>0</td>\n",
       "      <td>0</td>\n",
       "      <td>0</td>\n",
       "      <td>0</td>\n",
       "      <td>0</td>\n",
       "    </tr>\n",
       "  </tbody>\n",
       "</table>\n",
       "<p>10 rows × 10273 columns</p>\n",
       "</div>"
      ],
      "text/plain": [
       "          0      1      2      3      4      5      6      7      8      \\\n",
       "aa            0      0      0      0      0      0      0      0      0   \n",
       "aaaah         0      0      0      0      0      0      0      0      0   \n",
       "aaah          0      0      0      0      0      0      0      0      0   \n",
       "aaahhh        0      0      0      0      0      0      0      0      0   \n",
       "aaand         0      0      0      0      0      0      0      0      0   \n",
       "aah           0      0      0      0      0      0      0      0      0   \n",
       "ability       0      0      0      0      0      0      0      0      0   \n",
       "able          0      0      0      0      0      0      0      0      0   \n",
       "aborted       0      0      0      0      0      0      0      0      0   \n",
       "abortion      0      0      0      0      0      0      0      0      0   \n",
       "\n",
       "          9      ...  10263  10264  10265  10266  10267  10268  10269  10270  \\\n",
       "aa            0  ...      0      0      0      0      0      0      0      0   \n",
       "aaaah         0  ...      0      0      0      0      0      0      0      0   \n",
       "aaah          0  ...      0      0      0      0      0      0      0      0   \n",
       "aaahhh        0  ...      0      0      0      0      0      0      0      0   \n",
       "aaand         0  ...      0      0      0      0      0      0      0      0   \n",
       "aah           0  ...      0      0      0      0      0      0      0      0   \n",
       "ability       0  ...      0      0      0      0      0      0      0      0   \n",
       "able          0  ...      0      0      0      0      0      0      0      0   \n",
       "aborted       0  ...      1      0      0      0      0      0      0      0   \n",
       "abortion      0  ...      0      0      0      0      0      0      0      0   \n",
       "\n",
       "          10271  10272  \n",
       "aa            0      0  \n",
       "aaaah         0      0  \n",
       "aaah          0      0  \n",
       "aaahhh        0      0  \n",
       "aaand         0      0  \n",
       "aah           0      0  \n",
       "ability       0      0  \n",
       "able          0      0  \n",
       "aborted       2      0  \n",
       "abortion      0      0  \n",
       "\n",
       "[10 rows x 10273 columns]"
      ]
     },
     "execution_count": 43,
     "metadata": {},
     "output_type": "execute_result"
    }
   ],
   "source": [
    "vectorizer = CountVectorizer(min_df=4)\n",
    "vectorizer.fit(np.hstack(dataset['cleaned_text']))\n",
    "\n",
    "X = vectorizer.transform(np.hstack(dataset['cleaned_text']))\n",
    "\n",
    "pd.DataFrame(X.toarray(), columns=vectorizer.get_feature_names()).T.head(10)"
   ]
  },
  {
   "cell_type": "markdown",
   "metadata": {},
   "source": [
    "### Les termes qui representent le plus les dialogues"
   ]
  },
  {
   "cell_type": "code",
   "execution_count": 44,
   "metadata": {},
   "outputs": [],
   "source": [
    "from sklearn.feature_extraction.text import TfidfVectorizer"
   ]
  },
  {
   "cell_type": "code",
   "execution_count": 45,
   "metadata": {},
   "outputs": [
    {
     "data": {
      "text/html": [
       "<div>\n",
       "<style scoped>\n",
       "    .dataframe tbody tr th:only-of-type {\n",
       "        vertical-align: middle;\n",
       "    }\n",
       "\n",
       "    .dataframe tbody tr th {\n",
       "        vertical-align: top;\n",
       "    }\n",
       "\n",
       "    .dataframe thead th {\n",
       "        text-align: right;\n",
       "    }\n",
       "</style>\n",
       "<table border=\"1\" class=\"dataframe\">\n",
       "  <thead>\n",
       "    <tr style=\"text-align: right;\">\n",
       "      <th></th>\n",
       "      <th>0</th>\n",
       "      <th>1</th>\n",
       "      <th>2</th>\n",
       "      <th>3</th>\n",
       "      <th>4</th>\n",
       "      <th>5</th>\n",
       "      <th>6</th>\n",
       "      <th>7</th>\n",
       "      <th>8</th>\n",
       "      <th>9</th>\n",
       "      <th>...</th>\n",
       "      <th>10263</th>\n",
       "      <th>10264</th>\n",
       "      <th>10265</th>\n",
       "      <th>10266</th>\n",
       "      <th>10267</th>\n",
       "      <th>10268</th>\n",
       "      <th>10269</th>\n",
       "      <th>10270</th>\n",
       "      <th>10271</th>\n",
       "      <th>10272</th>\n",
       "    </tr>\n",
       "  </thead>\n",
       "  <tbody>\n",
       "    <tr>\n",
       "      <th>aa</th>\n",
       "      <td>0.0</td>\n",
       "      <td>0.0</td>\n",
       "      <td>0.0</td>\n",
       "      <td>0.0</td>\n",
       "      <td>0.0</td>\n",
       "      <td>0.0</td>\n",
       "      <td>0.0</td>\n",
       "      <td>0.0</td>\n",
       "      <td>0.0</td>\n",
       "      <td>0.0</td>\n",
       "      <td>...</td>\n",
       "      <td>0.0</td>\n",
       "      <td>0.0</td>\n",
       "      <td>0.0</td>\n",
       "      <td>0.0</td>\n",
       "      <td>0.0</td>\n",
       "      <td>0.0</td>\n",
       "      <td>0.0</td>\n",
       "      <td>0.0</td>\n",
       "      <td>0.0</td>\n",
       "      <td>0.0</td>\n",
       "    </tr>\n",
       "    <tr>\n",
       "      <th>aaaah</th>\n",
       "      <td>0.0</td>\n",
       "      <td>0.0</td>\n",
       "      <td>0.0</td>\n",
       "      <td>0.0</td>\n",
       "      <td>0.0</td>\n",
       "      <td>0.0</td>\n",
       "      <td>0.0</td>\n",
       "      <td>0.0</td>\n",
       "      <td>0.0</td>\n",
       "      <td>0.0</td>\n",
       "      <td>...</td>\n",
       "      <td>0.0</td>\n",
       "      <td>0.0</td>\n",
       "      <td>0.0</td>\n",
       "      <td>0.0</td>\n",
       "      <td>0.0</td>\n",
       "      <td>0.0</td>\n",
       "      <td>0.0</td>\n",
       "      <td>0.0</td>\n",
       "      <td>0.0</td>\n",
       "      <td>0.0</td>\n",
       "    </tr>\n",
       "    <tr>\n",
       "      <th>aaah</th>\n",
       "      <td>0.0</td>\n",
       "      <td>0.0</td>\n",
       "      <td>0.0</td>\n",
       "      <td>0.0</td>\n",
       "      <td>0.0</td>\n",
       "      <td>0.0</td>\n",
       "      <td>0.0</td>\n",
       "      <td>0.0</td>\n",
       "      <td>0.0</td>\n",
       "      <td>0.0</td>\n",
       "      <td>...</td>\n",
       "      <td>0.0</td>\n",
       "      <td>0.0</td>\n",
       "      <td>0.0</td>\n",
       "      <td>0.0</td>\n",
       "      <td>0.0</td>\n",
       "      <td>0.0</td>\n",
       "      <td>0.0</td>\n",
       "      <td>0.0</td>\n",
       "      <td>0.0</td>\n",
       "      <td>0.0</td>\n",
       "    </tr>\n",
       "    <tr>\n",
       "      <th>aaahhh</th>\n",
       "      <td>0.0</td>\n",
       "      <td>0.0</td>\n",
       "      <td>0.0</td>\n",
       "      <td>0.0</td>\n",
       "      <td>0.0</td>\n",
       "      <td>0.0</td>\n",
       "      <td>0.0</td>\n",
       "      <td>0.0</td>\n",
       "      <td>0.0</td>\n",
       "      <td>0.0</td>\n",
       "      <td>...</td>\n",
       "      <td>0.0</td>\n",
       "      <td>0.0</td>\n",
       "      <td>0.0</td>\n",
       "      <td>0.0</td>\n",
       "      <td>0.0</td>\n",
       "      <td>0.0</td>\n",
       "      <td>0.0</td>\n",
       "      <td>0.0</td>\n",
       "      <td>0.0</td>\n",
       "      <td>0.0</td>\n",
       "    </tr>\n",
       "    <tr>\n",
       "      <th>aaand</th>\n",
       "      <td>0.0</td>\n",
       "      <td>0.0</td>\n",
       "      <td>0.0</td>\n",
       "      <td>0.0</td>\n",
       "      <td>0.0</td>\n",
       "      <td>0.0</td>\n",
       "      <td>0.0</td>\n",
       "      <td>0.0</td>\n",
       "      <td>0.0</td>\n",
       "      <td>0.0</td>\n",
       "      <td>...</td>\n",
       "      <td>0.0</td>\n",
       "      <td>0.0</td>\n",
       "      <td>0.0</td>\n",
       "      <td>0.0</td>\n",
       "      <td>0.0</td>\n",
       "      <td>0.0</td>\n",
       "      <td>0.0</td>\n",
       "      <td>0.0</td>\n",
       "      <td>0.0</td>\n",
       "      <td>0.0</td>\n",
       "    </tr>\n",
       "    <tr>\n",
       "      <th>...</th>\n",
       "      <td>...</td>\n",
       "      <td>...</td>\n",
       "      <td>...</td>\n",
       "      <td>...</td>\n",
       "      <td>...</td>\n",
       "      <td>...</td>\n",
       "      <td>...</td>\n",
       "      <td>...</td>\n",
       "      <td>...</td>\n",
       "      <td>...</td>\n",
       "      <td>...</td>\n",
       "      <td>...</td>\n",
       "      <td>...</td>\n",
       "      <td>...</td>\n",
       "      <td>...</td>\n",
       "      <td>...</td>\n",
       "      <td>...</td>\n",
       "      <td>...</td>\n",
       "      <td>...</td>\n",
       "      <td>...</td>\n",
       "      <td>...</td>\n",
       "    </tr>\n",
       "    <tr>\n",
       "      <th>yup</th>\n",
       "      <td>0.0</td>\n",
       "      <td>0.0</td>\n",
       "      <td>0.0</td>\n",
       "      <td>0.0</td>\n",
       "      <td>0.0</td>\n",
       "      <td>0.0</td>\n",
       "      <td>0.0</td>\n",
       "      <td>0.0</td>\n",
       "      <td>0.0</td>\n",
       "      <td>0.0</td>\n",
       "      <td>...</td>\n",
       "      <td>0.0</td>\n",
       "      <td>0.0</td>\n",
       "      <td>0.0</td>\n",
       "      <td>0.0</td>\n",
       "      <td>0.0</td>\n",
       "      <td>0.0</td>\n",
       "      <td>0.0</td>\n",
       "      <td>0.0</td>\n",
       "      <td>0.0</td>\n",
       "      <td>0.0</td>\n",
       "    </tr>\n",
       "    <tr>\n",
       "      <th>yyeah</th>\n",
       "      <td>0.0</td>\n",
       "      <td>0.0</td>\n",
       "      <td>0.0</td>\n",
       "      <td>0.0</td>\n",
       "      <td>0.0</td>\n",
       "      <td>0.0</td>\n",
       "      <td>0.0</td>\n",
       "      <td>0.0</td>\n",
       "      <td>0.0</td>\n",
       "      <td>0.0</td>\n",
       "      <td>...</td>\n",
       "      <td>0.0</td>\n",
       "      <td>0.0</td>\n",
       "      <td>0.0</td>\n",
       "      <td>0.0</td>\n",
       "      <td>0.0</td>\n",
       "      <td>0.0</td>\n",
       "      <td>0.0</td>\n",
       "      <td>0.0</td>\n",
       "      <td>0.0</td>\n",
       "      <td>0.0</td>\n",
       "    </tr>\n",
       "    <tr>\n",
       "      <th>zero</th>\n",
       "      <td>0.0</td>\n",
       "      <td>0.0</td>\n",
       "      <td>0.0</td>\n",
       "      <td>0.0</td>\n",
       "      <td>0.0</td>\n",
       "      <td>0.0</td>\n",
       "      <td>0.0</td>\n",
       "      <td>0.0</td>\n",
       "      <td>0.0</td>\n",
       "      <td>0.0</td>\n",
       "      <td>...</td>\n",
       "      <td>0.0</td>\n",
       "      <td>0.0</td>\n",
       "      <td>0.0</td>\n",
       "      <td>0.0</td>\n",
       "      <td>0.0</td>\n",
       "      <td>0.0</td>\n",
       "      <td>0.0</td>\n",
       "      <td>0.0</td>\n",
       "      <td>0.0</td>\n",
       "      <td>0.0</td>\n",
       "    </tr>\n",
       "    <tr>\n",
       "      <th>ziplining</th>\n",
       "      <td>0.0</td>\n",
       "      <td>0.0</td>\n",
       "      <td>0.0</td>\n",
       "      <td>0.0</td>\n",
       "      <td>0.0</td>\n",
       "      <td>0.0</td>\n",
       "      <td>0.0</td>\n",
       "      <td>0.0</td>\n",
       "      <td>0.0</td>\n",
       "      <td>0.0</td>\n",
       "      <td>...</td>\n",
       "      <td>0.0</td>\n",
       "      <td>0.0</td>\n",
       "      <td>0.0</td>\n",
       "      <td>0.0</td>\n",
       "      <td>0.0</td>\n",
       "      <td>0.0</td>\n",
       "      <td>0.0</td>\n",
       "      <td>0.0</td>\n",
       "      <td>0.0</td>\n",
       "      <td>0.0</td>\n",
       "    </tr>\n",
       "    <tr>\n",
       "      <th>zombie</th>\n",
       "      <td>0.0</td>\n",
       "      <td>0.0</td>\n",
       "      <td>0.0</td>\n",
       "      <td>0.0</td>\n",
       "      <td>0.0</td>\n",
       "      <td>0.0</td>\n",
       "      <td>0.0</td>\n",
       "      <td>0.0</td>\n",
       "      <td>0.0</td>\n",
       "      <td>0.0</td>\n",
       "      <td>...</td>\n",
       "      <td>0.0</td>\n",
       "      <td>0.0</td>\n",
       "      <td>0.0</td>\n",
       "      <td>0.0</td>\n",
       "      <td>0.0</td>\n",
       "      <td>0.0</td>\n",
       "      <td>0.0</td>\n",
       "      <td>0.0</td>\n",
       "      <td>0.0</td>\n",
       "      <td>0.0</td>\n",
       "    </tr>\n",
       "  </tbody>\n",
       "</table>\n",
       "<p>3170 rows × 10273 columns</p>\n",
       "</div>"
      ],
      "text/plain": [
       "           0      1      2      3      4      5      6      7      8      \\\n",
       "aa           0.0    0.0    0.0    0.0    0.0    0.0    0.0    0.0    0.0   \n",
       "aaaah        0.0    0.0    0.0    0.0    0.0    0.0    0.0    0.0    0.0   \n",
       "aaah         0.0    0.0    0.0    0.0    0.0    0.0    0.0    0.0    0.0   \n",
       "aaahhh       0.0    0.0    0.0    0.0    0.0    0.0    0.0    0.0    0.0   \n",
       "aaand        0.0    0.0    0.0    0.0    0.0    0.0    0.0    0.0    0.0   \n",
       "...          ...    ...    ...    ...    ...    ...    ...    ...    ...   \n",
       "yup          0.0    0.0    0.0    0.0    0.0    0.0    0.0    0.0    0.0   \n",
       "yyeah        0.0    0.0    0.0    0.0    0.0    0.0    0.0    0.0    0.0   \n",
       "zero         0.0    0.0    0.0    0.0    0.0    0.0    0.0    0.0    0.0   \n",
       "ziplining    0.0    0.0    0.0    0.0    0.0    0.0    0.0    0.0    0.0   \n",
       "zombie       0.0    0.0    0.0    0.0    0.0    0.0    0.0    0.0    0.0   \n",
       "\n",
       "           9      ...  10263  10264  10265  10266  10267  10268  10269  10270  \\\n",
       "aa           0.0  ...    0.0    0.0    0.0    0.0    0.0    0.0    0.0    0.0   \n",
       "aaaah        0.0  ...    0.0    0.0    0.0    0.0    0.0    0.0    0.0    0.0   \n",
       "aaah         0.0  ...    0.0    0.0    0.0    0.0    0.0    0.0    0.0    0.0   \n",
       "aaahhh       0.0  ...    0.0    0.0    0.0    0.0    0.0    0.0    0.0    0.0   \n",
       "aaand        0.0  ...    0.0    0.0    0.0    0.0    0.0    0.0    0.0    0.0   \n",
       "...          ...  ...    ...    ...    ...    ...    ...    ...    ...    ...   \n",
       "yup          0.0  ...    0.0    0.0    0.0    0.0    0.0    0.0    0.0    0.0   \n",
       "yyeah        0.0  ...    0.0    0.0    0.0    0.0    0.0    0.0    0.0    0.0   \n",
       "zero         0.0  ...    0.0    0.0    0.0    0.0    0.0    0.0    0.0    0.0   \n",
       "ziplining    0.0  ...    0.0    0.0    0.0    0.0    0.0    0.0    0.0    0.0   \n",
       "zombie       0.0  ...    0.0    0.0    0.0    0.0    0.0    0.0    0.0    0.0   \n",
       "\n",
       "           10271  10272  \n",
       "aa           0.0    0.0  \n",
       "aaaah        0.0    0.0  \n",
       "aaah         0.0    0.0  \n",
       "aaahhh       0.0    0.0  \n",
       "aaand        0.0    0.0  \n",
       "...          ...    ...  \n",
       "yup          0.0    0.0  \n",
       "yyeah        0.0    0.0  \n",
       "zero         0.0    0.0  \n",
       "ziplining    0.0    0.0  \n",
       "zombie       0.0    0.0  \n",
       "\n",
       "[3170 rows x 10273 columns]"
      ]
     },
     "execution_count": 45,
     "metadata": {},
     "output_type": "execute_result"
    }
   ],
   "source": [
    "vectorizer = TfidfVectorizer(min_df=4, lowercase=True, stop_words=None)\n",
    "vectors = vectorizer.fit_transform(np.hstack(dataset['cleaned_text']))\n",
    "\n",
    "pd.DataFrame(vectors.toarray(), columns=vectorizer.get_feature_names()).T"
   ]
  },
  {
   "cell_type": "code",
   "execution_count": 46,
   "metadata": {},
   "outputs": [
    {
     "data": {
      "text/html": [
       "<div>\n",
       "<style scoped>\n",
       "    .dataframe tbody tr th:only-of-type {\n",
       "        vertical-align: middle;\n",
       "    }\n",
       "\n",
       "    .dataframe tbody tr th {\n",
       "        vertical-align: top;\n",
       "    }\n",
       "\n",
       "    .dataframe thead th {\n",
       "        text-align: right;\n",
       "    }\n",
       "</style>\n",
       "<table border=\"1\" class=\"dataframe\">\n",
       "  <thead>\n",
       "    <tr style=\"text-align: right;\">\n",
       "      <th></th>\n",
       "      <th>Season</th>\n",
       "      <th>Episode</th>\n",
       "      <th>Character</th>\n",
       "      <th>Line</th>\n",
       "      <th>cleaned_text</th>\n",
       "      <th>dialogue_length</th>\n",
       "      <th>lemmatized_text</th>\n",
       "      <th>stemming_text</th>\n",
       "    </tr>\n",
       "  </thead>\n",
       "  <tbody>\n",
       "    <tr>\n",
       "      <th>52733</th>\n",
       "      <td>5</td>\n",
       "      <td>9</td>\n",
       "      <td>Stan</td>\n",
       "      <td>No, dude, we're n- we're not ungrateful. It's ...</td>\n",
       "      <td>dude ungrateful none us keep goat</td>\n",
       "      <td>6</td>\n",
       "      <td>dude ungrateful none u keep goat</td>\n",
       "      <td>dude ungrat none us keep goat</td>\n",
       "    </tr>\n",
       "    <tr>\n",
       "      <th>13871</th>\n",
       "      <td>14</td>\n",
       "      <td>2</td>\n",
       "      <td>Butters</td>\n",
       "      <td>Uh... yeah, pretty much, I think, think so.</td>\n",
       "      <td>uh yeah pretty much think think</td>\n",
       "      <td>6</td>\n",
       "      <td>uh yeah pretty much think think</td>\n",
       "      <td>uh yeah pretti much think think</td>\n",
       "    </tr>\n",
       "    <tr>\n",
       "      <th>18620</th>\n",
       "      <td>15</td>\n",
       "      <td>9</td>\n",
       "      <td>Stan</td>\n",
       "      <td>So, so then, so then the pope says, \"Maybe you...</td>\n",
       "      <td>pope says maybe go check toilet</td>\n",
       "      <td>6</td>\n",
       "      <td>pope say maybe go check toilet</td>\n",
       "      <td>pope say mayb go check toilet</td>\n",
       "    </tr>\n",
       "    <tr>\n",
       "      <th>26100</th>\n",
       "      <td>18</td>\n",
       "      <td>2</td>\n",
       "      <td>Kyle</td>\n",
       "      <td>We're not bailing on the party, we're just thi...</td>\n",
       "      <td>bailing party think important things right</td>\n",
       "      <td>6</td>\n",
       "      <td>bail party think important thing right</td>\n",
       "      <td>bail parti think import thing right</td>\n",
       "    </tr>\n",
       "    <tr>\n",
       "      <th>1262</th>\n",
       "      <td>10</td>\n",
       "      <td>6</td>\n",
       "      <td>Stan</td>\n",
       "      <td>But I feel kind of bad for him, Dad. I don't t...</td>\n",
       "      <td>feel kind bad dad think friends</td>\n",
       "      <td>6</td>\n",
       "      <td>feel kind bad dad think friend</td>\n",
       "      <td>feel kind bad dad think friend</td>\n",
       "    </tr>\n",
       "  </tbody>\n",
       "</table>\n",
       "</div>"
      ],
      "text/plain": [
       "      Season Episode Character  \\\n",
       "52733      5       9      Stan   \n",
       "13871     14       2   Butters   \n",
       "18620     15       9      Stan   \n",
       "26100     18       2      Kyle   \n",
       "1262      10       6      Stan   \n",
       "\n",
       "                                                    Line  \\\n",
       "52733  No, dude, we're n- we're not ungrateful. It's ...   \n",
       "13871       Uh... yeah, pretty much, I think, think so.    \n",
       "18620  So, so then, so then the pope says, \"Maybe you...   \n",
       "26100  We're not bailing on the party, we're just thi...   \n",
       "1262   But I feel kind of bad for him, Dad. I don't t...   \n",
       "\n",
       "                                     cleaned_text  dialogue_length  \\\n",
       "52733           dude ungrateful none us keep goat                6   \n",
       "13871             uh yeah pretty much think think                6   \n",
       "18620             pope says maybe go check toilet                6   \n",
       "26100  bailing party think important things right                6   \n",
       "1262              feel kind bad dad think friends                6   \n",
       "\n",
       "                              lemmatized_text  \\\n",
       "52733        dude ungrateful none u keep goat   \n",
       "13871         uh yeah pretty much think think   \n",
       "18620          pope say maybe go check toilet   \n",
       "26100  bail party think important thing right   \n",
       "1262           feel kind bad dad think friend   \n",
       "\n",
       "                             stemming_text  \n",
       "52733        dude ungrat none us keep goat  \n",
       "13871      uh yeah pretti much think think  \n",
       "18620        pope say mayb go check toilet  \n",
       "26100  bail parti think import thing right  \n",
       "1262        feel kind bad dad think friend  "
      ]
     },
     "execution_count": 46,
     "metadata": {},
     "output_type": "execute_result"
    }
   ],
   "source": [
    "dataset.head()"
   ]
  },
  {
   "cell_type": "markdown",
   "metadata": {},
   "source": [
    "## Apprentissage automatique: Machine learning"
   ]
  },
  {
   "cell_type": "code",
   "execution_count": 47,
   "metadata": {},
   "outputs": [],
   "source": [
    "from sklearn.metrics import classification_report\n",
    "from sklearn.metrics import accuracy_score\n",
    "from sklearn.metrics import confusion_matrix\n",
    "import seaborn as sns\n",
    "import matplotlib.pyplot as plt\n",
    "from sklearn.naive_bayes import MultinomialNB\n",
    "\n",
    "from sklearn.svm import LinearSVC\n",
    "from sklearn.ensemble import AdaBoostClassifier\n",
    "from sklearn.tree import DecisionTreeClassifier\n",
    "from sklearn.ensemble import RandomForestClassifier\n",
    "from sklearn.linear_model import LogisticRegression"
   ]
  },
  {
   "cell_type": "code",
   "execution_count": 48,
   "metadata": {},
   "outputs": [],
   "source": [
    "# Les algorithmes\n",
    "classifiers = {\n",
    "    \"Naive Bayes\": MultinomialNB(),\n",
    "    \"Support Vector Machine\": LinearSVC(),\n",
    "    \"Decision Tree\": DecisionTreeClassifier(),\n",
    "    \"Ada Boosting\": AdaBoostClassifier(),\n",
    "    \"Random Forest\": RandomForestClassifier(),\n",
    "    \"Logistic Regression\": LogisticRegression(),\n",
    "}"
   ]
  },
  {
   "cell_type": "code",
   "execution_count": 49,
   "metadata": {},
   "outputs": [],
   "source": [
    "# Classification\n",
    "\n",
    "def training_models(X_train, y_train, X_test):\n",
    "    '''\n",
    "    Fonction pour entrainer les differents modèles et reporter les metriques.\n",
    "    input: données d'entrainement et de test\n",
    "    output: precision, rappel, f1-score, matrice de confusion de chaque classifier\n",
    "    \n",
    "    '''\n",
    "    symbole1 = \"<>\"\n",
    "    symbole2 = \" \"\n",
    "    \n",
    "    \n",
    "    for key, classifier in classifiers.items():\n",
    "        print(20*symbole1)\n",
    "        print(symbole2*10 ,key)\n",
    "        print(20*symbole1)\n",
    "\n",
    "        # Entrainer du modèle\n",
    "        classifier.fit(X_train, y_train)\n",
    "        \n",
    "        # Prédiction sur les données de test\n",
    "        y_pred = classifier.predict(X_test)\n",
    "\n",
    "        print(\" les principales Metriques de classification:\\n\", classification_report(y_test, y_pred))\n",
    "        \n",
    "        # Matrice de confusion\n",
    "        sns.heatmap(confusion_matrix(y_test, y_pred, labels = list(set(y_train))), \n",
    "                    annot=True, \n",
    "                    xticklabels=set(y_train),\n",
    "                    yticklabels=set(y_train))\n",
    "        \n",
    "        plt.ylabel('Vraies classes')\n",
    "        plt.xlabel('Classes prédites')\n",
    "        plt.show()"
   ]
  },
  {
   "cell_type": "markdown",
   "metadata": {},
   "source": [
    "## CountVectorizer \n",
    "\n",
    "Il s'agit essentiellement d'un sac de mots, où les documents sont évalués en fonction du nombre de fois où chaque mot apparaît."
   ]
  },
  {
   "cell_type": "markdown",
   "metadata": {},
   "source": [
    "#### Données normalisées avec la lemmatization"
   ]
  },
  {
   "cell_type": "code",
   "execution_count": 50,
   "metadata": {},
   "outputs": [],
   "source": [
    "# Extraction de caractéristiques\n",
    "vectorizer = CountVectorizer(min_df = 5, lowercase = False, ngram_range=(1, 3))\n",
    "\n",
    "X = vectorizer.fit_transform(dataset['lemmatized_text']).toarray()\n",
    "y = dataset['Character']"
   ]
  },
  {
   "cell_type": "code",
   "execution_count": 51,
   "metadata": {},
   "outputs": [],
   "source": [
    "# Diviser le jeu de données en 80% train et 20% test\n",
    "from sklearn.model_selection import train_test_split"
   ]
  },
  {
   "cell_type": "code",
   "execution_count": 52,
   "metadata": {},
   "outputs": [
    {
     "data": {
      "text/plain": [
       "(8218, 2055)"
      ]
     },
     "execution_count": 52,
     "metadata": {},
     "output_type": "execute_result"
    }
   ],
   "source": [
    "X_train, X_test, y_train, y_test = train_test_split(X, y, test_size=0.2, random_state=43)\n",
    "len(X_train), len(X_test)"
   ]
  },
  {
   "cell_type": "code",
   "execution_count": 53,
   "metadata": {},
   "outputs": [
    {
     "name": "stdout",
     "output_type": "stream",
     "text": [
      "<><><><><><><><><><><><><><><><><><><><>\n",
      "           Naive Bayes\n",
      "<><><><><><><><><><><><><><><><><><><><>\n",
      " les principales Metriques de classification:\n",
      "               precision    recall  f1-score   support\n",
      "\n",
      "     Butters       0.58      0.42      0.49       189\n",
      "     Cartman       0.60      0.64      0.62       842\n",
      "        Kyle       0.38      0.37      0.38       374\n",
      "       Randy       0.50      0.42      0.46       226\n",
      "        Stan       0.42      0.45      0.43       424\n",
      "\n",
      "    accuracy                           0.51      2055\n",
      "   macro avg       0.50      0.46      0.48      2055\n",
      "weighted avg       0.51      0.51      0.51      2055\n",
      "\n"
     ]
    },
    {
     "data": {
      "image/png": "[encoded data removed]",
      "text/plain": [
       "<Figure size 432x288 with 2 Axes>"
      ]
     },
     "metadata": {
      "needs_background": "light"
     },
     "output_type": "display_data"
    },
    {
     "name": "stdout",
     "output_type": "stream",
     "text": [
      "<><><><><><><><><><><><><><><><><><><><>\n",
      "           Support Vector Machine\n",
      "<><><><><><><><><><><><><><><><><><><><>\n",
      " les principales Metriques de classification:\n",
      "               precision    recall  f1-score   support\n",
      "\n",
      "     Butters       0.42      0.38      0.40       189\n",
      "     Cartman       0.60      0.61      0.61       842\n",
      "        Kyle       0.36      0.37      0.37       374\n",
      "       Randy       0.47      0.43      0.45       226\n",
      "        Stan       0.37      0.39      0.38       424\n",
      "\n",
      "    accuracy                           0.48      2055\n",
      "   macro avg       0.45      0.44      0.44      2055\n",
      "weighted avg       0.48      0.48      0.48      2055\n",
      "\n"
     ]
    },
    {
     "data": {
      "image/png": "[encoded data removed]",
      "text/plain": [
       "<Figure size 432x288 with 2 Axes>"
      ]
     },
     "metadata": {
      "needs_background": "light"
     },
     "output_type": "display_data"
    },
    {
     "name": "stdout",
     "output_type": "stream",
     "text": [
      "<><><><><><><><><><><><><><><><><><><><>\n",
      "           Decision Tree\n",
      "<><><><><><><><><><><><><><><><><><><><>\n",
      " les principales Metriques de classification:\n",
      "               precision    recall  f1-score   support\n",
      "\n",
      "     Butters       0.32      0.21      0.26       189\n",
      "     Cartman       0.54      0.60      0.57       842\n",
      "        Kyle       0.33      0.30      0.31       374\n",
      "       Randy       0.38      0.32      0.35       226\n",
      "        Stan       0.32      0.34      0.33       424\n",
      "\n",
      "    accuracy                           0.43      2055\n",
      "   macro avg       0.38      0.36      0.36      2055\n",
      "weighted avg       0.42      0.43      0.42      2055\n",
      "\n"
     ]
    },
    {
     "data": {
      "image/png": "[encoded data removed]",
      "text/plain": [
       "<Figure size 432x288 with 2 Axes>"
      ]
     },
     "metadata": {
      "needs_background": "light"
     },
     "output_type": "display_data"
    },
    {
     "name": "stdout",
     "output_type": "stream",
     "text": [
      "<><><><><><><><><><><><><><><><><><><><>\n",
      "           Ada Boosting\n",
      "<><><><><><><><><><><><><><><><><><><><>\n",
      " les principales Metriques de classification:\n",
      "               precision    recall  f1-score   support\n",
      "\n",
      "     Butters       0.56      0.23      0.32       189\n",
      "     Cartman       0.48      0.87      0.62       842\n",
      "        Kyle       0.44      0.20      0.28       374\n",
      "       Randy       0.59      0.28      0.38       226\n",
      "        Stan       0.45      0.17      0.25       424\n",
      "\n",
      "    accuracy                           0.48      2055\n",
      "   macro avg       0.50      0.35      0.37      2055\n",
      "weighted avg       0.48      0.48      0.42      2055\n",
      "\n"
     ]
    },
    {
     "data": {
      "image/png": "[encoded data removed]",
      "text/plain": [
       "<Figure size 432x288 with 2 Axes>"
      ]
     },
     "metadata": {
      "needs_background": "light"
     },
     "output_type": "display_data"
    },
    {
     "name": "stdout",
     "output_type": "stream",
     "text": [
      "<><><><><><><><><><><><><><><><><><><><>\n",
      "           Random Forest\n",
      "<><><><><><><><><><><><><><><><><><><><>\n",
      " les principales Metriques de classification:\n",
      "               precision    recall  f1-score   support\n",
      "\n",
      "     Butters       0.57      0.23      0.33       189\n",
      "     Cartman       0.50      0.83      0.63       842\n",
      "        Kyle       0.42      0.25      0.31       374\n",
      "       Randy       0.69      0.25      0.37       226\n",
      "        Stan       0.43      0.29      0.35       424\n",
      "\n",
      "    accuracy                           0.49      2055\n",
      "   macro avg       0.52      0.37      0.40      2055\n",
      "weighted avg       0.50      0.49      0.46      2055\n",
      "\n"
     ]
    },
    {
     "data": {
      "image/png": "[encoded data removed]",
      "text/plain": [
       "<Figure size 432x288 with 2 Axes>"
      ]
     },
     "metadata": {
      "needs_background": "light"
     },
     "output_type": "display_data"
    },
    {
     "name": "stdout",
     "output_type": "stream",
     "text": [
      "<><><><><><><><><><><><><><><><><><><><>\n",
      "           Logistic Regression\n",
      "<><><><><><><><><><><><><><><><><><><><>\n"
     ]
    },
    {
     "name": "stderr",
     "output_type": "stream",
     "text": [
      "/home/daj/anaconda3/lib/python3.7/site-packages/sklearn/linear_model/_logistic.py:764: ConvergenceWarning: lbfgs failed to converge (status=1):\n",
      "STOP: TOTAL NO. of ITERATIONS REACHED LIMIT.\n",
      "\n",
      "Increase the number of iterations (max_iter) or scale the data as shown in:\n",
      "    https://scikit-learn.org/stable/modules/preprocessing.html\n",
      "Please also refer to the documentation for alternative solver options:\n",
      "    https://scikit-learn.org/stable/modules/linear_model.html#logistic-regression\n",
      "  extra_warning_msg=_LOGISTIC_SOLVER_CONVERGENCE_MSG)\n"
     ]
    },
    {
     "name": "stdout",
     "output_type": "stream",
     "text": [
      " les principales Metriques de classification:\n",
      "               precision    recall  f1-score   support\n",
      "\n",
      "     Butters       0.49      0.33      0.40       189\n",
      "     Cartman       0.59      0.68      0.63       842\n",
      "        Kyle       0.38      0.37      0.37       374\n",
      "       Randy       0.54      0.40      0.46       226\n",
      "        Stan       0.42      0.41      0.41       424\n",
      "\n",
      "    accuracy                           0.50      2055\n",
      "   macro avg       0.48      0.44      0.45      2055\n",
      "weighted avg       0.50      0.50      0.50      2055\n",
      "\n"
     ]
    },
    {
     "data": {
      "image/png": "[encoded data removed]",
      "text/plain": [
       "<Figure size 432x288 with 2 Axes>"
      ]
     },
     "metadata": {
      "needs_background": "light"
     },
     "output_type": "display_data"
    }
   ],
   "source": [
    "training_models(X_train, y_train, X_test)"
   ]
  },
  {
   "cell_type": "markdown",
   "metadata": {},
   "source": [
    "####  Données normalisées avec la racinisation"
   ]
  },
  {
   "cell_type": "code",
   "execution_count": 54,
   "metadata": {},
   "outputs": [],
   "source": [
    "# Extraction de caractéristiques\n",
    "vectorizer = CountVectorizer(min_df = 5, lowercase = False, ngram_range=(1, 3))\n",
    "X = vectorizer.fit_transform(dataset['stemming_text']).toarray()\n",
    "y = dataset['Character']"
   ]
  },
  {
   "cell_type": "code",
   "execution_count": 55,
   "metadata": {},
   "outputs": [
    {
     "data": {
      "text/plain": [
       "(8218, 2055)"
      ]
     },
     "execution_count": 55,
     "metadata": {},
     "output_type": "execute_result"
    }
   ],
   "source": [
    "X_train, X_test, y_train, y_test = train_test_split(X, y, test_size=0.2, random_state=43)\n",
    "len(X_train), len(X_test)"
   ]
  },
  {
   "cell_type": "code",
   "execution_count": 56,
   "metadata": {},
   "outputs": [
    {
     "name": "stdout",
     "output_type": "stream",
     "text": [
      "<><><><><><><><><><><><><><><><><><><><>\n",
      "           Naive Bayes\n",
      "<><><><><><><><><><><><><><><><><><><><>\n",
      " les principales Metriques de classification:\n",
      "               precision    recall  f1-score   support\n",
      "\n",
      "     Butters       0.60      0.45      0.52       189\n",
      "     Cartman       0.60      0.66      0.63       842\n",
      "        Kyle       0.37      0.36      0.36       374\n",
      "       Randy       0.48      0.38      0.43       226\n",
      "        Stan       0.42      0.43      0.43       424\n",
      "\n",
      "    accuracy                           0.51      2055\n",
      "   macro avg       0.49      0.46      0.47      2055\n",
      "weighted avg       0.51      0.51      0.51      2055\n",
      "\n"
     ]
    },
    {
     "data": {
      "image/png": "[encoded data removed]",
      "text/plain": [
       "<Figure size 432x288 with 2 Axes>"
      ]
     },
     "metadata": {
      "needs_background": "light"
     },
     "output_type": "display_data"
    },
    {
     "name": "stdout",
     "output_type": "stream",
     "text": [
      "<><><><><><><><><><><><><><><><><><><><>\n",
      "           Support Vector Machine\n",
      "<><><><><><><><><><><><><><><><><><><><>\n",
      " les principales Metriques de classification:\n",
      "               precision    recall  f1-score   support\n",
      "\n",
      "     Butters       0.39      0.34      0.37       189\n",
      "     Cartman       0.59      0.60      0.60       842\n",
      "        Kyle       0.35      0.37      0.36       374\n",
      "       Randy       0.43      0.40      0.41       226\n",
      "        Stan       0.42      0.42      0.42       424\n",
      "\n",
      "    accuracy                           0.48      2055\n",
      "   macro avg       0.44      0.43      0.43      2055\n",
      "weighted avg       0.48      0.48      0.48      2055\n",
      "\n"
     ]
    },
    {
     "data": {
      "image/png": "[encoded data removed]",
      "text/plain": [
       "<Figure size 432x288 with 2 Axes>"
      ]
     },
     "metadata": {
      "needs_background": "light"
     },
     "output_type": "display_data"
    },
    {
     "name": "stdout",
     "output_type": "stream",
     "text": [
      "<><><><><><><><><><><><><><><><><><><><>\n",
      "           Decision Tree\n",
      "<><><><><><><><><><><><><><><><><><><><>\n",
      " les principales Metriques de classification:\n",
      "               precision    recall  f1-score   support\n",
      "\n",
      "     Butters       0.42      0.28      0.34       189\n",
      "     Cartman       0.54      0.60      0.57       842\n",
      "        Kyle       0.34      0.31      0.33       374\n",
      "       Randy       0.41      0.30      0.34       226\n",
      "        Stan       0.32      0.36      0.34       424\n",
      "\n",
      "    accuracy                           0.44      2055\n",
      "   macro avg       0.41      0.37      0.38      2055\n",
      "weighted avg       0.43      0.44      0.43      2055\n",
      "\n"
     ]
    },
    {
     "data": {
      "image/png": "[encoded data removed]",
      "text/plain": [
       "<Figure size 432x288 with 2 Axes>"
      ]
     },
     "metadata": {
      "needs_background": "light"
     },
     "output_type": "display_data"
    },
    {
     "name": "stdout",
     "output_type": "stream",
     "text": [
      "<><><><><><><><><><><><><><><><><><><><>\n",
      "           Ada Boosting\n",
      "<><><><><><><><><><><><><><><><><><><><>\n",
      " les principales Metriques de classification:\n",
      "               precision    recall  f1-score   support\n",
      "\n",
      "     Butters       0.49      0.20      0.28       189\n",
      "     Cartman       0.47      0.87      0.61       842\n",
      "        Kyle       0.44      0.20      0.27       374\n",
      "       Randy       0.60      0.28      0.38       226\n",
      "        Stan       0.44      0.17      0.25       424\n",
      "\n",
      "    accuracy                           0.47      2055\n",
      "   macro avg       0.49      0.34      0.36      2055\n",
      "weighted avg       0.48      0.47      0.42      2055\n",
      "\n"
     ]
    },
    {
     "data": {
      "image/png": "[encoded data removed]",
      "text/plain": [
       "<Figure size 432x288 with 2 Axes>"
      ]
     },
     "metadata": {
      "needs_background": "light"
     },
     "output_type": "display_data"
    },
    {
     "name": "stdout",
     "output_type": "stream",
     "text": [
      "<><><><><><><><><><><><><><><><><><><><>\n",
      "           Random Forest\n",
      "<><><><><><><><><><><><><><><><><><><><>\n",
      " les principales Metriques de classification:\n",
      "               precision    recall  f1-score   support\n",
      "\n",
      "     Butters       0.62      0.25      0.35       189\n",
      "     Cartman       0.51      0.85      0.64       842\n",
      "        Kyle       0.43      0.23      0.30       374\n",
      "       Randy       0.70      0.27      0.39       226\n",
      "        Stan       0.40      0.29      0.34       424\n",
      "\n",
      "    accuracy                           0.50      2055\n",
      "   macro avg       0.53      0.38      0.40      2055\n",
      "weighted avg       0.51      0.50      0.46      2055\n",
      "\n"
     ]
    },
    {
     "data": {
      "image/png": "[encoded data removed]",
      "text/plain": [
       "<Figure size 432x288 with 2 Axes>"
      ]
     },
     "metadata": {
      "needs_background": "light"
     },
     "output_type": "display_data"
    },
    {
     "name": "stdout",
     "output_type": "stream",
     "text": [
      "<><><><><><><><><><><><><><><><><><><><>\n",
      "           Logistic Regression\n",
      "<><><><><><><><><><><><><><><><><><><><>\n"
     ]
    },
    {
     "name": "stderr",
     "output_type": "stream",
     "text": [
      "/home/daj/anaconda3/lib/python3.7/site-packages/sklearn/linear_model/_logistic.py:764: ConvergenceWarning: lbfgs failed to converge (status=1):\n",
      "STOP: TOTAL NO. of ITERATIONS REACHED LIMIT.\n",
      "\n",
      "Increase the number of iterations (max_iter) or scale the data as shown in:\n",
      "    https://scikit-learn.org/stable/modules/preprocessing.html\n",
      "Please also refer to the documentation for alternative solver options:\n",
      "    https://scikit-learn.org/stable/modules/linear_model.html#logistic-regression\n",
      "  extra_warning_msg=_LOGISTIC_SOLVER_CONVERGENCE_MSG)\n"
     ]
    },
    {
     "name": "stdout",
     "output_type": "stream",
     "text": [
      " les principales Metriques de classification:\n",
      "               precision    recall  f1-score   support\n",
      "\n",
      "     Butters       0.52      0.35      0.42       189\n",
      "     Cartman       0.59      0.68      0.63       842\n",
      "        Kyle       0.38      0.37      0.37       374\n",
      "       Randy       0.50      0.38      0.44       226\n",
      "        Stan       0.43      0.42      0.42       424\n",
      "\n",
      "    accuracy                           0.51      2055\n",
      "   macro avg       0.48      0.44      0.46      2055\n",
      "weighted avg       0.50      0.51      0.50      2055\n",
      "\n"
     ]
    },
    {
     "data": {
      "image/png": "[encoded data removed]",
      "text/plain": [
       "<Figure size 432x288 with 2 Axes>"
      ]
     },
     "metadata": {
      "needs_background": "light"
     },
     "output_type": "display_data"
    }
   ],
   "source": [
    "training_models(X_train, y_train, X_test)"
   ]
  },
  {
   "cell_type": "markdown",
   "metadata": {},
   "source": [
    "## TF-IDF\n",
    "\n",
    "Utilisation d'un vectoriseur tf-idf pondéré au lieu d'un CountVectorizer de base."
   ]
  },
  {
   "cell_type": "markdown",
   "metadata": {},
   "source": [
    "### Données normalisées avec la lemmatization"
   ]
  },
  {
   "cell_type": "code",
   "execution_count": 57,
   "metadata": {},
   "outputs": [],
   "source": [
    "from sklearn.feature_extraction.text import TfidfVectorizer\n",
    "vectorizer = TfidfVectorizer(ngram_range=(1, 1))\n",
    "\n",
    "X = vectorizer.fit_transform(dataset['lemmatized_text']).toarray()\n",
    "y = dataset['Character']"
   ]
  },
  {
   "cell_type": "code",
   "execution_count": 58,
   "metadata": {},
   "outputs": [],
   "source": [
    "# Diviser le jeu de données en 80% train et 20% test\n",
    "from sklearn.model_selection import train_test_split"
   ]
  },
  {
   "cell_type": "code",
   "execution_count": 59,
   "metadata": {},
   "outputs": [
    {
     "data": {
      "text/plain": [
       "(8218, 2055)"
      ]
     },
     "execution_count": 59,
     "metadata": {},
     "output_type": "execute_result"
    }
   ],
   "source": [
    "X_train, X_test, y_train, y_test = train_test_split(X, y, test_size=0.2, random_state=43)\n",
    "len(X_train), len(X_test)"
   ]
  },
  {
   "cell_type": "code",
   "execution_count": 60,
   "metadata": {},
   "outputs": [
    {
     "name": "stdout",
     "output_type": "stream",
     "text": [
      "<><><><><><><><><><><><><><><><><><><><>\n",
      "           Naive Bayes\n",
      "<><><><><><><><><><><><><><><><><><><><>\n",
      " les principales Metriques de classification:\n",
      "               precision    recall  f1-score   support\n",
      "\n",
      "     Butters       1.00      0.03      0.05       189\n",
      "     Cartman       0.42      0.97      0.59       842\n",
      "        Kyle       0.52      0.07      0.12       374\n",
      "       Randy       1.00      0.01      0.02       226\n",
      "        Stan       0.44      0.08      0.13       424\n",
      "\n",
      "    accuracy                           0.43      2055\n",
      "   macro avg       0.68      0.23      0.18      2055\n",
      "weighted avg       0.56      0.43      0.30      2055\n",
      "\n"
     ]
    },
    {
     "data": {
      "image/png": "[encoded data removed]",
      "text/plain": [
       "<Figure size 432x288 with 2 Axes>"
      ]
     },
     "metadata": {
      "needs_background": "light"
     },
     "output_type": "display_data"
    },
    {
     "name": "stdout",
     "output_type": "stream",
     "text": [
      "<><><><><><><><><><><><><><><><><><><><>\n",
      "           Support Vector Machine\n",
      "<><><><><><><><><><><><><><><><><><><><>\n",
      " les principales Metriques de classification:\n",
      "               precision    recall  f1-score   support\n",
      "\n",
      "     Butters       0.58      0.39      0.46       189\n",
      "     Cartman       0.58      0.72      0.64       842\n",
      "        Kyle       0.38      0.33      0.35       374\n",
      "       Randy       0.61      0.44      0.51       226\n",
      "        Stan       0.41      0.39      0.40       424\n",
      "\n",
      "    accuracy                           0.52      2055\n",
      "   macro avg       0.51      0.45      0.47      2055\n",
      "weighted avg       0.51      0.52      0.51      2055\n",
      "\n"
     ]
    },
    {
     "data": {
      "image/png": "[encoded data removed]",
      "text/plain": [
       "<Figure size 432x288 with 2 Axes>"
      ]
     },
     "metadata": {
      "needs_background": "light"
     },
     "output_type": "display_data"
    },
    {
     "name": "stdout",
     "output_type": "stream",
     "text": [
      "<><><><><><><><><><><><><><><><><><><><>\n",
      "           Decision Tree\n",
      "<><><><><><><><><><><><><><><><><><><><>\n",
      " les principales Metriques de classification:\n",
      "               precision    recall  f1-score   support\n",
      "\n",
      "     Butters       0.29      0.18      0.22       189\n",
      "     Cartman       0.53      0.61      0.57       842\n",
      "        Kyle       0.32      0.31      0.32       374\n",
      "       Randy       0.40      0.36      0.38       226\n",
      "        Stan       0.35      0.32      0.33       424\n",
      "\n",
      "    accuracy                           0.43      2055\n",
      "   macro avg       0.38      0.36      0.36      2055\n",
      "weighted avg       0.42      0.43      0.42      2055\n",
      "\n"
     ]
    },
    {
     "data": {
      "image/png": "[encoded data removed]",
      "text/plain": [
       "<Figure size 432x288 with 2 Axes>"
      ]
     },
     "metadata": {
      "needs_background": "light"
     },
     "output_type": "display_data"
    },
    {
     "name": "stdout",
     "output_type": "stream",
     "text": [
      "<><><><><><><><><><><><><><><><><><><><>\n",
      "           Ada Boosting\n",
      "<><><><><><><><><><><><><><><><><><><><>\n",
      " les principales Metriques de classification:\n",
      "               precision    recall  f1-score   support\n",
      "\n",
      "     Butters       0.46      0.16      0.24       189\n",
      "     Cartman       0.48      0.88      0.62       842\n",
      "        Kyle       0.44      0.20      0.27       374\n",
      "       Randy       0.61      0.29      0.39       226\n",
      "        Stan       0.46      0.17      0.25       424\n",
      "\n",
      "    accuracy                           0.48      2055\n",
      "   macro avg       0.49      0.34      0.36      2055\n",
      "weighted avg       0.48      0.48      0.42      2055\n",
      "\n"
     ]
    },
    {
     "data": {
      "image/png": "[encoded data removed]",
      "text/plain": [
       "<Figure size 432x288 with 2 Axes>"
      ]
     },
     "metadata": {
      "needs_background": "light"
     },
     "output_type": "display_data"
    },
    {
     "name": "stdout",
     "output_type": "stream",
     "text": [
      "<><><><><><><><><><><><><><><><><><><><>\n",
      "           Random Forest\n",
      "<><><><><><><><><><><><><><><><><><><><>\n",
      " les principales Metriques de classification:\n",
      "               precision    recall  f1-score   support\n",
      "\n",
      "     Butters       0.71      0.19      0.29       189\n",
      "     Cartman       0.51      0.88      0.65       842\n",
      "        Kyle       0.43      0.25      0.32       374\n",
      "       Randy       0.78      0.23      0.35       226\n",
      "        Stan       0.42      0.27      0.33       424\n",
      "\n",
      "    accuracy                           0.51      2055\n",
      "   macro avg       0.57      0.36      0.39      2055\n",
      "weighted avg       0.53      0.51      0.46      2055\n",
      "\n"
     ]
    },
    {
     "data": {
      "image/png": "[encoded data removed]",
      "text/plain": [
       "<Figure size 432x288 with 2 Axes>"
      ]
     },
     "metadata": {
      "needs_background": "light"
     },
     "output_type": "display_data"
    },
    {
     "name": "stdout",
     "output_type": "stream",
     "text": [
      "<><><><><><><><><><><><><><><><><><><><>\n",
      "           Logistic Regression\n",
      "<><><><><><><><><><><><><><><><><><><><>\n"
     ]
    },
    {
     "name": "stderr",
     "output_type": "stream",
     "text": [
      "/home/daj/anaconda3/lib/python3.7/site-packages/sklearn/linear_model/_logistic.py:764: ConvergenceWarning: lbfgs failed to converge (status=1):\n",
      "STOP: TOTAL NO. of ITERATIONS REACHED LIMIT.\n",
      "\n",
      "Increase the number of iterations (max_iter) or scale the data as shown in:\n",
      "    https://scikit-learn.org/stable/modules/preprocessing.html\n",
      "Please also refer to the documentation for alternative solver options:\n",
      "    https://scikit-learn.org/stable/modules/linear_model.html#logistic-regression\n",
      "  extra_warning_msg=_LOGISTIC_SOLVER_CONVERGENCE_MSG)\n"
     ]
    },
    {
     "name": "stdout",
     "output_type": "stream",
     "text": [
      " les principales Metriques de classification:\n",
      "               precision    recall  f1-score   support\n",
      "\n",
      "     Butters       0.67      0.26      0.38       189\n",
      "     Cartman       0.52      0.83      0.64       842\n",
      "        Kyle       0.42      0.27      0.33       374\n",
      "       Randy       0.75      0.25      0.37       226\n",
      "        Stan       0.44      0.34      0.38       424\n",
      "\n",
      "    accuracy                           0.51      2055\n",
      "   macro avg       0.56      0.39      0.42      2055\n",
      "weighted avg       0.52      0.51      0.48      2055\n",
      "\n"
     ]
    },
    {
     "data": {
      "image/png": "[encoded data removed]",
      "text/plain": [
       "<Figure size 432x288 with 2 Axes>"
      ]
     },
     "metadata": {
      "needs_background": "light"
     },
     "output_type": "display_data"
    }
   ],
   "source": [
    "training_models(X_train, y_train, X_test)"
   ]
  },
  {
   "cell_type": "markdown",
   "metadata": {},
   "source": [
    "### Données normalisées avec la racinisation"
   ]
  },
  {
   "cell_type": "code",
   "execution_count": 61,
   "metadata": {},
   "outputs": [],
   "source": [
    "vectorizer = TfidfVectorizer(ngram_range=(1, 1))\n",
    "\n",
    "X = vectorizer.fit_transform(dataset['stemming_text']).toarray()\n",
    "y = dataset['Character']"
   ]
  },
  {
   "cell_type": "code",
   "execution_count": 62,
   "metadata": {},
   "outputs": [],
   "source": [
    "# Diviser le jeu de données en 80% train et 20% test\n",
    "from sklearn.model_selection import train_test_split"
   ]
  },
  {
   "cell_type": "code",
   "execution_count": 63,
   "metadata": {},
   "outputs": [
    {
     "data": {
      "text/plain": [
       "(8218, 2055)"
      ]
     },
     "execution_count": 63,
     "metadata": {},
     "output_type": "execute_result"
    }
   ],
   "source": [
    "X_train, X_test, y_train, y_test = train_test_split(X, y, test_size=0.2, random_state=43)\n",
    "len(X_train), len(X_test)"
   ]
  },
  {
   "cell_type": "code",
   "execution_count": 64,
   "metadata": {},
   "outputs": [
    {
     "name": "stdout",
     "output_type": "stream",
     "text": [
      "<><><><><><><><><><><><><><><><><><><><>\n",
      "           Naive Bayes\n",
      "<><><><><><><><><><><><><><><><><><><><>\n",
      " les principales Metriques de classification:\n",
      "               precision    recall  f1-score   support\n",
      "\n",
      "     Butters       1.00      0.03      0.06       189\n",
      "     Cartman       0.43      0.97      0.59       842\n",
      "        Kyle       0.52      0.07      0.13       374\n",
      "       Randy       1.00      0.01      0.02       226\n",
      "        Stan       0.43      0.08      0.14       424\n",
      "\n",
      "    accuracy                           0.43      2055\n",
      "   macro avg       0.67      0.23      0.19      2055\n",
      "weighted avg       0.56      0.43      0.30      2055\n",
      "\n"
     ]
    },
    {
     "data": {
      "image/png": "[encoded data removed]",
      "text/plain": [
       "<Figure size 432x288 with 2 Axes>"
      ]
     },
     "metadata": {
      "needs_background": "light"
     },
     "output_type": "display_data"
    },
    {
     "name": "stdout",
     "output_type": "stream",
     "text": [
      "<><><><><><><><><><><><><><><><><><><><>\n",
      "           Support Vector Machine\n",
      "<><><><><><><><><><><><><><><><><><><><>\n",
      " les principales Metriques de classification:\n",
      "               precision    recall  f1-score   support\n",
      "\n",
      "     Butters       0.57      0.39      0.46       189\n",
      "     Cartman       0.59      0.72      0.65       842\n",
      "        Kyle       0.37      0.34      0.35       374\n",
      "       Randy       0.56      0.41      0.47       226\n",
      "        Stan       0.41      0.40      0.40       424\n",
      "\n",
      "    accuracy                           0.52      2055\n",
      "   macro avg       0.50      0.45      0.47      2055\n",
      "weighted avg       0.51      0.52      0.51      2055\n",
      "\n"
     ]
    },
    {
     "data": {
      "image/png": "[encoded data removed]",
      "text/plain": [
       "<Figure size 432x288 with 2 Axes>"
      ]
     },
     "metadata": {
      "needs_background": "light"
     },
     "output_type": "display_data"
    },
    {
     "name": "stdout",
     "output_type": "stream",
     "text": [
      "<><><><><><><><><><><><><><><><><><><><>\n",
      "           Decision Tree\n",
      "<><><><><><><><><><><><><><><><><><><><>\n",
      " les principales Metriques de classification:\n",
      "               precision    recall  f1-score   support\n",
      "\n",
      "     Butters       0.31      0.26      0.28       189\n",
      "     Cartman       0.54      0.60      0.57       842\n",
      "        Kyle       0.31      0.32      0.32       374\n",
      "       Randy       0.39      0.32      0.35       226\n",
      "        Stan       0.32      0.29      0.31       424\n",
      "\n",
      "    accuracy                           0.42      2055\n",
      "   macro avg       0.37      0.36      0.37      2055\n",
      "weighted avg       0.41      0.42      0.42      2055\n",
      "\n"
     ]
    },
    {
     "data": {
      "image/png": "[encoded data removed]",
      "text/plain": [
       "<Figure size 432x288 with 2 Axes>"
      ]
     },
     "metadata": {
      "needs_background": "light"
     },
     "output_type": "display_data"
    },
    {
     "name": "stdout",
     "output_type": "stream",
     "text": [
      "<><><><><><><><><><><><><><><><><><><><>\n",
      "           Ada Boosting\n",
      "<><><><><><><><><><><><><><><><><><><><>\n",
      " les principales Metriques de classification:\n",
      "               precision    recall  f1-score   support\n",
      "\n",
      "     Butters       0.48      0.20      0.28       189\n",
      "     Cartman       0.48      0.86      0.61       842\n",
      "        Kyle       0.43      0.19      0.26       374\n",
      "       Randy       0.63      0.27      0.38       226\n",
      "        Stan       0.44      0.20      0.28       424\n",
      "\n",
      "    accuracy                           0.48      2055\n",
      "   macro avg       0.49      0.35      0.36      2055\n",
      "weighted avg       0.48      0.48      0.42      2055\n",
      "\n"
     ]
    },
    {
     "data": {
      "image/png": "[encoded data removed]",
      "text/plain": [
       "<Figure size 432x288 with 2 Axes>"
      ]
     },
     "metadata": {
      "needs_background": "light"
     },
     "output_type": "display_data"
    },
    {
     "name": "stdout",
     "output_type": "stream",
     "text": [
      "<><><><><><><><><><><><><><><><><><><><>\n",
      "           Random Forest\n",
      "<><><><><><><><><><><><><><><><><><><><>\n",
      " les principales Metriques de classification:\n",
      "               precision    recall  f1-score   support\n",
      "\n",
      "     Butters       0.78      0.19      0.30       189\n",
      "     Cartman       0.50      0.87      0.64       842\n",
      "        Kyle       0.46      0.24      0.32       374\n",
      "       Randy       0.78      0.23      0.35       226\n",
      "        Stan       0.41      0.29      0.34       424\n",
      "\n",
      "    accuracy                           0.50      2055\n",
      "   macro avg       0.59      0.36      0.39      2055\n",
      "weighted avg       0.53      0.50      0.46      2055\n",
      "\n"
     ]
    },
    {
     "data": {
      "image/png": "[encoded data removed]",
      "text/plain": [
       "<Figure size 432x288 with 2 Axes>"
      ]
     },
     "metadata": {
      "needs_background": "light"
     },
     "output_type": "display_data"
    },
    {
     "name": "stdout",
     "output_type": "stream",
     "text": [
      "<><><><><><><><><><><><><><><><><><><><>\n",
      "           Logistic Regression\n",
      "<><><><><><><><><><><><><><><><><><><><>\n"
     ]
    },
    {
     "name": "stderr",
     "output_type": "stream",
     "text": [
      "/home/daj/anaconda3/lib/python3.7/site-packages/sklearn/linear_model/_logistic.py:764: ConvergenceWarning: lbfgs failed to converge (status=1):\n",
      "STOP: TOTAL NO. of ITERATIONS REACHED LIMIT.\n",
      "\n",
      "Increase the number of iterations (max_iter) or scale the data as shown in:\n",
      "    https://scikit-learn.org/stable/modules/preprocessing.html\n",
      "Please also refer to the documentation for alternative solver options:\n",
      "    https://scikit-learn.org/stable/modules/linear_model.html#logistic-regression\n",
      "  extra_warning_msg=_LOGISTIC_SOLVER_CONVERGENCE_MSG)\n"
     ]
    },
    {
     "name": "stdout",
     "output_type": "stream",
     "text": [
      " les principales Metriques de classification:\n",
      "               precision    recall  f1-score   support\n",
      "\n",
      "     Butters       0.68      0.27      0.39       189\n",
      "     Cartman       0.53      0.83      0.65       842\n",
      "        Kyle       0.40      0.26      0.32       374\n",
      "       Randy       0.71      0.26      0.38       226\n",
      "        Stan       0.42      0.33      0.37       424\n",
      "\n",
      "    accuracy                           0.51      2055\n",
      "   macro avg       0.55      0.39      0.42      2055\n",
      "weighted avg       0.52      0.51      0.48      2055\n",
      "\n"
     ]
    },
    {
     "data": {
      "image/png": "[encoded data removed]",
      "text/plain": [
       "<Figure size 432x288 with 2 Axes>"
      ]
     },
     "metadata": {
      "needs_background": "light"
     },
     "output_type": "display_data"
    }
   ],
   "source": [
    "training_models(X_train, y_train, X_test)"
   ]
  },
  {
   "cell_type": "markdown",
   "metadata": {},
   "source": [
    "On remarque que le  Support Vector Machine fonctionne mieux que les autres classifiers. Aussi, l'etape de pretraitement qui semble le mieux adapté est la lemmatization et TF-IDF est le meilleur vectoriseur. Mais la précision est assez faible à environ 52%. Essayons d'ameliorer les résultats.\n",
    "\n",
    "\n",
    "Nous utilisons la fonctionnalité sklearn GridSearch pour obtenir les meilleurs hyperparamètres."
   ]
  },
  {
   "cell_type": "markdown",
   "metadata": {},
   "source": [
    "### GridSearchCV\n",
    "\n",
    "Réglage des hyperparamètres SVM avec GridSearchCV"
   ]
  },
  {
   "cell_type": "code",
   "execution_count": 65,
   "metadata": {},
   "outputs": [],
   "source": [
    "from sklearn.feature_extraction.text import TfidfVectorizer\n",
    "vectorizer = TfidfVectorizer(ngram_range=(1, 1))\n",
    "\n",
    "X = vectorizer.fit_transform(dataset['lemmatized_text']).toarray()\n",
    "y = dataset['Character']"
   ]
  },
  {
   "cell_type": "code",
   "execution_count": 66,
   "metadata": {},
   "outputs": [],
   "source": [
    "# Diviser le jeu de données en 80% train et 20% test\n",
    "from sklearn.model_selection import train_test_split"
   ]
  },
  {
   "cell_type": "code",
   "execution_count": 67,
   "metadata": {},
   "outputs": [
    {
     "data": {
      "text/plain": [
       "(8218, 2055)"
      ]
     },
     "execution_count": 67,
     "metadata": {},
     "output_type": "execute_result"
    }
   ],
   "source": [
    "X_train, X_test, y_train, y_test = train_test_split(X, y, test_size=0.2, random_state=43)\n",
    "\n",
    "len(X_train), len(X_test)"
   ]
  },
  {
   "cell_type": "code",
   "execution_count": 68,
   "metadata": {},
   "outputs": [],
   "source": [
    "from sklearn.model_selection import GridSearchCV"
   ]
  },
  {
   "cell_type": "code",
   "execution_count": 69,
   "metadata": {},
   "outputs": [],
   "source": [
    "SVM  = LinearSVC()\n",
    "param_grid = {'C': [0.1, 0.5, 1]}"
   ]
  },
  {
   "cell_type": "code",
   "execution_count": 70,
   "metadata": {},
   "outputs": [],
   "source": [
    "sv_grid = GridSearchCV(SVM,\n",
    "                       param_grid = param_grid,\n",
    "                       refit = True,\n",
    "                       verbose = 1)"
   ]
  },
  {
   "cell_type": "code",
   "execution_count": 71,
   "metadata": {},
   "outputs": [
    {
     "name": "stdout",
     "output_type": "stream",
     "text": [
      "Fitting 5 folds for each of 3 candidates, totalling 15 fits\n"
     ]
    },
    {
     "name": "stderr",
     "output_type": "stream",
     "text": [
      "[Parallel(n_jobs=1)]: Using backend SequentialBackend with 1 concurrent workers.\n",
      "[Parallel(n_jobs=1)]: Done  15 out of  15 | elapsed:    8.9s finished\n"
     ]
    },
    {
     "data": {
      "text/plain": [
       "GridSearchCV(estimator=LinearSVC(), param_grid={'C': [0.1, 0.5, 1]}, verbose=1)"
      ]
     },
     "execution_count": 71,
     "metadata": {},
     "output_type": "execute_result"
    }
   ],
   "source": [
    "sv_grid.fit(X_train, y_train)"
   ]
  },
  {
   "cell_type": "code",
   "execution_count": 72,
   "metadata": {},
   "outputs": [],
   "source": [
    "y_pred = sv_grid.predict(X_test)"
   ]
  },
  {
   "cell_type": "code",
   "execution_count": 97,
   "metadata": {},
   "outputs": [
    {
     "name": "stdout",
     "output_type": "stream",
     "text": [
      "Best C:  LinearSVC(C=0.5)\n",
      "Best score:  0.53\n"
     ]
    }
   ],
   "source": [
    "print('Best C: ', sv_grid.best_estimator_)\n",
    "print('Best score: ', round(sv_grid.best_score_, 2))"
   ]
  },
  {
   "cell_type": "code",
   "execution_count": 74,
   "metadata": {},
   "outputs": [
    {
     "name": "stdout",
     "output_type": "stream",
     "text": [
      "0.5206812652068127\n"
     ]
    }
   ],
   "source": [
    "print(accuracy_score(y_test, y_pred))"
   ]
  },
  {
   "cell_type": "code",
   "execution_count": 75,
   "metadata": {},
   "outputs": [
    {
     "name": "stdout",
     "output_type": "stream",
     "text": [
      "              precision    recall  f1-score   support\n",
      "\n",
      "     Butters       0.59      0.37      0.45       189\n",
      "     Cartman       0.57      0.76      0.65       842\n",
      "        Kyle       0.38      0.30      0.33       374\n",
      "       Randy       0.67      0.40      0.50       226\n",
      "        Stan       0.41      0.38      0.40       424\n",
      "\n",
      "    accuracy                           0.52      2055\n",
      "   macro avg       0.53      0.44      0.47      2055\n",
      "weighted avg       0.52      0.52      0.51      2055\n",
      "\n"
     ]
    }
   ],
   "source": [
    "print(classification_report(y_test, y_pred))"
   ]
  },
  {
   "cell_type": "code",
   "execution_count": 76,
   "metadata": {},
   "outputs": [
    {
     "data": {
      "image/png": "[encoded data removed]",
      "text/plain": [
       "<Figure size 432x288 with 2 Axes>"
      ]
     },
     "metadata": {
      "needs_background": "light"
     },
     "output_type": "display_data"
    }
   ],
   "source": [
    "sns.heatmap(confusion_matrix(y_test, y_pred, labels = list(set(y_train))), annot=True, xticklabels=set(y_train), yticklabels=set(y_train))\n",
    "plt.ylabel('Vraies classes')\n",
    "plt.xlabel('Classes prédites')\n",
    "plt.show()"
   ]
  },
  {
   "cell_type": "markdown",
   "metadata": {},
   "source": [
    "Grace à GridSearchCV, nous avons obtenu les meilleurs paramètres de notre modèle(SVM). Nous pouvons ainsi prédire à partir des paroles les 5 personnages de south park avec une précision d'environ 53%."
   ]
  },
  {
   "cell_type": "markdown",
   "metadata": {},
   "source": [
    "## Apprentissage profond: artificial recurrent neural network (RNN): LSTM "
   ]
  },
  {
   "cell_type": "code",
   "execution_count": 77,
   "metadata": {},
   "outputs": [
    {
     "name": "stderr",
     "output_type": "stream",
     "text": [
      "Using TensorFlow backend.\n",
      "/home/daj/anaconda3/lib/python3.7/site-packages/tensorflow/python/framework/dtypes.py:516: FutureWarning: Passing (type, 1) or '1type' as a synonym of type is deprecated; in a future version of numpy, it will be understood as (type, (1,)) / '(1,)type'.\n",
      "  _np_qint8 = np.dtype([(\"qint8\", np.int8, 1)])\n",
      "/home/daj/anaconda3/lib/python3.7/site-packages/tensorflow/python/framework/dtypes.py:517: FutureWarning: Passing (type, 1) or '1type' as a synonym of type is deprecated; in a future version of numpy, it will be understood as (type, (1,)) / '(1,)type'.\n",
      "  _np_quint8 = np.dtype([(\"quint8\", np.uint8, 1)])\n",
      "/home/daj/anaconda3/lib/python3.7/site-packages/tensorflow/python/framework/dtypes.py:518: FutureWarning: Passing (type, 1) or '1type' as a synonym of type is deprecated; in a future version of numpy, it will be understood as (type, (1,)) / '(1,)type'.\n",
      "  _np_qint16 = np.dtype([(\"qint16\", np.int16, 1)])\n",
      "/home/daj/anaconda3/lib/python3.7/site-packages/tensorflow/python/framework/dtypes.py:519: FutureWarning: Passing (type, 1) or '1type' as a synonym of type is deprecated; in a future version of numpy, it will be understood as (type, (1,)) / '(1,)type'.\n",
      "  _np_quint16 = np.dtype([(\"quint16\", np.uint16, 1)])\n",
      "/home/daj/anaconda3/lib/python3.7/site-packages/tensorflow/python/framework/dtypes.py:520: FutureWarning: Passing (type, 1) or '1type' as a synonym of type is deprecated; in a future version of numpy, it will be understood as (type, (1,)) / '(1,)type'.\n",
      "  _np_qint32 = np.dtype([(\"qint32\", np.int32, 1)])\n",
      "/home/daj/anaconda3/lib/python3.7/site-packages/tensorflow/python/framework/dtypes.py:525: FutureWarning: Passing (type, 1) or '1type' as a synonym of type is deprecated; in a future version of numpy, it will be understood as (type, (1,)) / '(1,)type'.\n",
      "  np_resource = np.dtype([(\"resource\", np.ubyte, 1)])\n",
      "/home/daj/anaconda3/lib/python3.7/site-packages/tensorboard/compat/tensorflow_stub/dtypes.py:541: FutureWarning: Passing (type, 1) or '1type' as a synonym of type is deprecated; in a future version of numpy, it will be understood as (type, (1,)) / '(1,)type'.\n",
      "  _np_qint8 = np.dtype([(\"qint8\", np.int8, 1)])\n",
      "/home/daj/anaconda3/lib/python3.7/site-packages/tensorboard/compat/tensorflow_stub/dtypes.py:542: FutureWarning: Passing (type, 1) or '1type' as a synonym of type is deprecated; in a future version of numpy, it will be understood as (type, (1,)) / '(1,)type'.\n",
      "  _np_quint8 = np.dtype([(\"quint8\", np.uint8, 1)])\n",
      "/home/daj/anaconda3/lib/python3.7/site-packages/tensorboard/compat/tensorflow_stub/dtypes.py:543: FutureWarning: Passing (type, 1) or '1type' as a synonym of type is deprecated; in a future version of numpy, it will be understood as (type, (1,)) / '(1,)type'.\n",
      "  _np_qint16 = np.dtype([(\"qint16\", np.int16, 1)])\n",
      "/home/daj/anaconda3/lib/python3.7/site-packages/tensorboard/compat/tensorflow_stub/dtypes.py:544: FutureWarning: Passing (type, 1) or '1type' as a synonym of type is deprecated; in a future version of numpy, it will be understood as (type, (1,)) / '(1,)type'.\n",
      "  _np_quint16 = np.dtype([(\"quint16\", np.uint16, 1)])\n",
      "/home/daj/anaconda3/lib/python3.7/site-packages/tensorboard/compat/tensorflow_stub/dtypes.py:545: FutureWarning: Passing (type, 1) or '1type' as a synonym of type is deprecated; in a future version of numpy, it will be understood as (type, (1,)) / '(1,)type'.\n",
      "  _np_qint32 = np.dtype([(\"qint32\", np.int32, 1)])\n",
      "/home/daj/anaconda3/lib/python3.7/site-packages/tensorboard/compat/tensorflow_stub/dtypes.py:550: FutureWarning: Passing (type, 1) or '1type' as a synonym of type is deprecated; in a future version of numpy, it will be understood as (type, (1,)) / '(1,)type'.\n",
      "  np_resource = np.dtype([(\"resource\", np.ubyte, 1)])\n"
     ]
    }
   ],
   "source": [
    "from keras import models\n",
    "from keras import layers"
   ]
  },
  {
   "cell_type": "code",
   "execution_count": 78,
   "metadata": {},
   "outputs": [],
   "source": [
    "# La variable dependante\n",
    "X = (dataset['lemmatized_text'])\n",
    "\n",
    "# Variable à prédire: y\n",
    "y = dataset['Character']"
   ]
  },
  {
   "cell_type": "markdown",
   "metadata": {},
   "source": [
    "### Encodage de la colonne y"
   ]
  },
  {
   "cell_type": "code",
   "execution_count": 79,
   "metadata": {},
   "outputs": [],
   "source": [
    "from sklearn.preprocessing import LabelEncoder"
   ]
  },
  {
   "cell_type": "code",
   "execution_count": 80,
   "metadata": {},
   "outputs": [],
   "source": [
    "# Encodage avec label encoder\n",
    "le = LabelEncoder()\n",
    "y = le.fit_transform(y)\n",
    "y = y.reshape(-1,1)"
   ]
  },
  {
   "cell_type": "code",
   "execution_count": 81,
   "metadata": {},
   "outputs": [
    {
     "name": "stdout",
     "output_type": "stream",
     "text": [
      "X Train:  8218\n",
      "X test:  2055\n"
     ]
    }
   ],
   "source": [
    "# Diviser le jeu de données en 80% train et 20% test\n",
    "from sklearn.model_selection import train_test_split\n",
    "X_train, X_test, y_train, y_test = train_test_split(X, y, test_size=0.2, random_state=43)\n",
    "\n",
    "print(\"X Train: \", len(X_train))\n",
    "print(\"X test: \", len(X_test))"
   ]
  },
  {
   "cell_type": "markdown",
   "metadata": {},
   "source": [
    "### Tokeniser les données et convertir le texte en séquences.\n",
    "\n",
    " Ajoutez un remplissage pour vous assurer que toutes les séquences ont la même forme."
   ]
  },
  {
   "cell_type": "code",
   "execution_count": 82,
   "metadata": {},
   "outputs": [],
   "source": [
    "from keras.preprocessing.text import Tokenizer\n",
    "from keras.preprocessing import sequence"
   ]
  },
  {
   "cell_type": "code",
   "execution_count": 83,
   "metadata": {},
   "outputs": [],
   "source": [
    "max_words = 1000\n",
    "max_len = 150\n",
    "tok = Tokenizer(num_words=max_words)\n",
    "tok.fit_on_texts(X_train)\n",
    "sequences = tok.texts_to_sequences(X_train)\n",
    "sequences_matrix = sequence.pad_sequences(sequences, maxlen=max_len)"
   ]
  },
  {
   "cell_type": "code",
   "execution_count": 84,
   "metadata": {},
   "outputs": [],
   "source": [
    "from keras.layers import LSTM, Activation, Dense, Dropout, Input, Embedding\n",
    "from keras.models import Model\n",
    "from keras.optimizers import RMSprop"
   ]
  },
  {
   "cell_type": "markdown",
   "metadata": {},
   "source": [
    "### Definir la structure du modèle RNN"
   ]
  },
  {
   "cell_type": "code",
   "execution_count": 85,
   "metadata": {},
   "outputs": [],
   "source": [
    "def RNN():\n",
    "    inputs = Input(name='inputs',shape=[max_len])\n",
    "    layer = Embedding(max_words,50,input_length=max_len)(inputs)\n",
    "    layer = LSTM(64)(layer)\n",
    "    layer = Dense(256,name='FC1')(layer)\n",
    "    layer = Activation('relu')(layer)\n",
    "    layer = Dropout(0.5)(layer)\n",
    "    layer = Dense(1,name='out_layer')(layer)\n",
    "    layer = Activation('sigmoid')(layer)\n",
    "    model = Model(inputs=inputs,outputs=layer)\n",
    "    return model"
   ]
  },
  {
   "cell_type": "code",
   "execution_count": 86,
   "metadata": {},
   "outputs": [
    {
     "name": "stdout",
     "output_type": "stream",
     "text": [
      "Model: \"model_1\"\n",
      "_________________________________________________________________\n",
      "Layer (type)                 Output Shape              Param #   \n",
      "=================================================================\n",
      "inputs (InputLayer)          (None, 150)               0         \n",
      "_________________________________________________________________\n",
      "embedding_1 (Embedding)      (None, 150, 50)           50000     \n",
      "_________________________________________________________________\n",
      "lstm_1 (LSTM)                (None, 64)                29440     \n",
      "_________________________________________________________________\n",
      "FC1 (Dense)                  (None, 256)               16640     \n",
      "_________________________________________________________________\n",
      "activation_1 (Activation)    (None, 256)               0         \n",
      "_________________________________________________________________\n",
      "dropout_1 (Dropout)          (None, 256)               0         \n",
      "_________________________________________________________________\n",
      "out_layer (Dense)            (None, 1)                 257       \n",
      "_________________________________________________________________\n",
      "activation_2 (Activation)    (None, 1)                 0         \n",
      "=================================================================\n",
      "Total params: 96,337\n",
      "Trainable params: 96,337\n",
      "Non-trainable params: 0\n",
      "_________________________________________________________________\n"
     ]
    }
   ],
   "source": [
    "model = RNN()\n",
    "model.summary()"
   ]
  },
  {
   "cell_type": "markdown",
   "metadata": {},
   "source": [
    "### Compiler le modèle"
   ]
  },
  {
   "cell_type": "code",
   "execution_count": 87,
   "metadata": {},
   "outputs": [
    {
     "name": "stdout",
     "output_type": "stream",
     "text": [
      "WARNING:tensorflow:From /home/daj/anaconda3/lib/python3.7/site-packages/tensorflow/python/ops/nn_impl.py:180: add_dispatch_support.<locals>.wrapper (from tensorflow.python.ops.array_ops) is deprecated and will be removed in a future version.\n",
      "Instructions for updating:\n",
      "Use tf.where in 2.0, which has the same broadcast rule as np.where\n"
     ]
    }
   ],
   "source": [
    "model.compile(optimizer=RMSprop(),\n",
    "              loss=\"binary_crossentropy\",\n",
    "              metrics=[\"accuracy\"])"
   ]
  },
  {
   "cell_type": "code",
   "execution_count": 88,
   "metadata": {},
   "outputs": [],
   "source": [
    "from keras.callbacks import EarlyStopping, ModelCheckpoint, ReduceLROnPlateau"
   ]
  },
  {
   "cell_type": "code",
   "execution_count": 89,
   "metadata": {},
   "outputs": [],
   "source": [
    "callbacks = [\n",
    "    EarlyStopping(patience=10, verbose=1),\n",
    "    ReduceLROnPlateau(factor=0.1, patience=3, min_lr=0.00001, verbose=1),\n",
    "    ModelCheckpoint('model_training_file.hdf5', verbose=1, save_best_only=True, save_weights_only=True)\n",
    "]"
   ]
  },
  {
   "cell_type": "markdown",
   "metadata": {},
   "source": [
    "### Entrainer le modèle sur les données d'entrainement"
   ]
  },
  {
   "cell_type": "code",
   "execution_count": 90,
   "metadata": {},
   "outputs": [
    {
     "name": "stdout",
     "output_type": "stream",
     "text": [
      "WARNING:tensorflow:From /home/daj/anaconda3/lib/python3.7/site-packages/keras/backend/tensorflow_backend.py:422: The name tf.global_variables is deprecated. Please use tf.compat.v1.global_variables instead.\n",
      "\n",
      "Train on 6574 samples, validate on 1644 samples\n",
      "Epoch 1/100\n",
      "6574/6574 [==============================] - 18s 3ms/step - loss: -37.6597 - accuracy: 0.4071 - val_loss: -78.4801 - val_accuracy: 0.4155\n",
      "\n",
      "Epoch 00001: val_loss improved from inf to -78.48015, saving model to model_training_file.hdf5\n",
      "Epoch 2/100\n",
      "6574/6574 [==============================] - 18s 3ms/step - loss: -134.6545 - accuracy: 0.4099 - val_loss: -184.5548 - val_accuracy: 0.4155\n",
      "\n",
      "Epoch 00002: val_loss improved from -78.48015 to -184.55483, saving model to model_training_file.hdf5\n",
      "Epoch 3/100\n",
      "6574/6574 [==============================] - 19s 3ms/step - loss: -264.4396 - accuracy: 0.4099 - val_loss: -325.6959 - val_accuracy: 0.4155\n",
      "\n",
      "Epoch 00003: val_loss improved from -184.55483 to -325.69591, saving model to model_training_file.hdf5\n",
      "Epoch 4/100\n",
      "6574/6574 [==============================] - 19s 3ms/step - loss: -430.4561 - accuracy: 0.4099 - val_loss: -502.9453 - val_accuracy: 0.4155\n",
      "\n",
      "Epoch 00004: val_loss improved from -325.69591 to -502.94528, saving model to model_training_file.hdf5\n",
      "Epoch 5/100\n",
      "6574/6574 [==============================] - 19s 3ms/step - loss: -636.1642 - accuracy: 0.4099 - val_loss: -716.7548 - val_accuracy: 0.4155\n",
      "\n",
      "Epoch 00005: val_loss improved from -502.94528 to -716.75481, saving model to model_training_file.hdf5\n",
      "Epoch 6/100\n",
      "6574/6574 [==============================] - 16s 3ms/step - loss: -882.3260 - accuracy: 0.4099 - val_loss: -965.3778 - val_accuracy: 0.4155\n",
      "\n",
      "Epoch 00006: val_loss improved from -716.75481 to -965.37784, saving model to model_training_file.hdf5\n",
      "Epoch 7/100\n",
      "6574/6574 [==============================] - 16s 2ms/step - loss: -1155.8398 - accuracy: 0.4099 - val_loss: -1246.3307 - val_accuracy: 0.4155\n",
      "\n",
      "Epoch 00007: val_loss improved from -965.37784 to -1246.33074, saving model to model_training_file.hdf5\n",
      "Epoch 8/100\n",
      "6574/6574 [==============================] - 16s 2ms/step - loss: -1475.8251 - accuracy: 0.4099 - val_loss: -1565.9211 - val_accuracy: 0.4155\n",
      "\n",
      "Epoch 00008: val_loss improved from -1246.33074 to -1565.92107, saving model to model_training_file.hdf5\n",
      "Epoch 9/100\n",
      "6574/6574 [==============================] - 16s 2ms/step - loss: -1832.3005 - accuracy: 0.4099 - val_loss: -1918.8656 - val_accuracy: 0.4155\n",
      "\n",
      "Epoch 00009: val_loss improved from -1565.92107 to -1918.86561, saving model to model_training_file.hdf5\n",
      "Epoch 10/100\n",
      "6574/6574 [==============================] - 18s 3ms/step - loss: -2216.0758 - accuracy: 0.4099 - val_loss: -2306.0203 - val_accuracy: 0.4155\n",
      "\n",
      "Epoch 00010: val_loss improved from -1918.86561 to -2306.02032, saving model to model_training_file.hdf5\n",
      "Epoch 11/100\n",
      "6574/6574 [==============================] - 20s 3ms/step - loss: -2643.4414 - accuracy: 0.4099 - val_loss: -2728.4938 - val_accuracy: 0.4155\n",
      "\n",
      "Epoch 00011: val_loss improved from -2306.02032 to -2728.49378, saving model to model_training_file.hdf5\n",
      "Epoch 12/100\n",
      "6574/6574 [==============================] - 19s 3ms/step - loss: -3098.7976 - accuracy: 0.4099 - val_loss: -3191.5033 - val_accuracy: 0.4155\n",
      "\n",
      "Epoch 00012: val_loss improved from -2728.49378 to -3191.50332, saving model to model_training_file.hdf5\n",
      "Epoch 13/100\n",
      "6574/6574 [==============================] - 20s 3ms/step - loss: -3604.9978 - accuracy: 0.4099 - val_loss: -3679.7583 - val_accuracy: 0.4155\n",
      "\n",
      "Epoch 00013: val_loss improved from -3191.50332 to -3679.75827, saving model to model_training_file.hdf5\n",
      "Epoch 14/100\n",
      "6574/6574 [==============================] - 19s 3ms/step - loss: -4152.9560 - accuracy: 0.4099 - val_loss: -4207.6447 - val_accuracy: 0.4155\n",
      "\n",
      "Epoch 00014: val_loss improved from -3679.75827 to -4207.64470, saving model to model_training_file.hdf5\n",
      "Epoch 15/100\n",
      "6574/6574 [==============================] - 17s 3ms/step - loss: -4722.5529 - accuracy: 0.4099 - val_loss: -4768.9732 - val_accuracy: 0.4155\n",
      "\n",
      "Epoch 00015: val_loss improved from -4207.64470 to -4768.97322, saving model to model_training_file.hdf5\n",
      "Epoch 16/100\n",
      "6574/6574 [==============================] - 17s 3ms/step - loss: -5333.7128 - accuracy: 0.4099 - val_loss: -5373.0446 - val_accuracy: 0.4155\n",
      "\n",
      "Epoch 00016: val_loss improved from -4768.97322 to -5373.04457, saving model to model_training_file.hdf5\n",
      "Epoch 17/100\n",
      "6574/6574 [==============================] - 16s 2ms/step - loss: -5999.1961 - accuracy: 0.4099 - val_loss: -6007.1722 - val_accuracy: 0.4155\n",
      "\n",
      "Epoch 00017: val_loss improved from -5373.04457 to -6007.17219, saving model to model_training_file.hdf5\n",
      "Epoch 18/100\n",
      "6574/6574 [==============================] - 17s 3ms/step - loss: -6687.5039 - accuracy: 0.4099 - val_loss: -6670.1884 - val_accuracy: 0.4155\n",
      "\n",
      "Epoch 00018: val_loss improved from -6007.17219 to -6670.18837, saving model to model_training_file.hdf5\n",
      "Epoch 19/100\n",
      "6574/6574 [==============================] - 18s 3ms/step - loss: -7378.5330 - accuracy: 0.4099 - val_loss: -7377.9757 - val_accuracy: 0.4155\n",
      "\n",
      "Epoch 00019: val_loss improved from -6670.18837 to -7377.97569, saving model to model_training_file.hdf5\n",
      "Epoch 20/100\n",
      "6574/6574 [==============================] - 18s 3ms/step - loss: -8148.2064 - accuracy: 0.4099 - val_loss: -8106.6466 - val_accuracy: 0.4155\n",
      "\n",
      "Epoch 00020: val_loss improved from -7377.97569 to -8106.64665, saving model to model_training_file.hdf5\n",
      "Epoch 21/100\n",
      "6574/6574 [==============================] - 20s 3ms/step - loss: -8936.5778 - accuracy: 0.4099 - val_loss: -8883.8776 - val_accuracy: 0.4155\n",
      "\n",
      "Epoch 00021: val_loss improved from -8106.64665 to -8883.87760, saving model to model_training_file.hdf5\n",
      "Epoch 22/100\n",
      "6574/6574 [==============================] - 15s 2ms/step - loss: -9755.8528 - accuracy: 0.4099 - val_loss: -9690.3326 - val_accuracy: 0.4155\n",
      "\n",
      "Epoch 00022: val_loss improved from -8883.87760 to -9690.33262, saving model to model_training_file.hdf5\n",
      "Epoch 23/100\n",
      "6574/6574 [==============================] - 15s 2ms/step - loss: -10642.5759 - accuracy: 0.4099 - val_loss: -10523.8901 - val_accuracy: 0.4155\n",
      "\n",
      "Epoch 00023: val_loss improved from -9690.33262 to -10523.89012, saving model to model_training_file.hdf5\n",
      "Epoch 24/100\n",
      "6574/6574 [==============================] - 14s 2ms/step - loss: -11578.3618 - accuracy: 0.4099 - val_loss: -11406.0155 - val_accuracy: 0.4155\n",
      "\n",
      "Epoch 00024: val_loss improved from -10523.89012 to -11406.01550, saving model to model_training_file.hdf5\n",
      "Epoch 25/100\n",
      "6574/6574 [==============================] - 14s 2ms/step - loss: -12536.1303 - accuracy: 0.4099 - val_loss: -12314.4802 - val_accuracy: 0.4155\n",
      "\n",
      "Epoch 00025: val_loss improved from -11406.01550 to -12314.48021, saving model to model_training_file.hdf5\n",
      "Epoch 26/100\n",
      "6574/6574 [==============================] - 14s 2ms/step - loss: -13508.2188 - accuracy: 0.4099 - val_loss: -13257.7919 - val_accuracy: 0.4155\n",
      "\n",
      "Epoch 00026: val_loss improved from -12314.48021 to -13257.79189, saving model to model_training_file.hdf5\n",
      "Epoch 27/100\n",
      "6574/6574 [==============================] - 14s 2ms/step - loss: -14451.1824 - accuracy: 0.4099 - val_loss: -14237.4188 - val_accuracy: 0.4155\n",
      "\n",
      "Epoch 00027: val_loss improved from -13257.79189 to -14237.41881, saving model to model_training_file.hdf5\n",
      "Epoch 28/100\n",
      "6574/6574 [==============================] - 19s 3ms/step - loss: -15520.8761 - accuracy: 0.4099 - val_loss: -15254.4180 - val_accuracy: 0.4155\n",
      "\n",
      "Epoch 00028: val_loss improved from -14237.41881 to -15254.41801, saving model to model_training_file.hdf5\n",
      "Epoch 29/100\n",
      "6574/6574 [==============================] - 16s 2ms/step - loss: -16579.1722 - accuracy: 0.4099 - val_loss: -16295.0888 - val_accuracy: 0.4155\n",
      "\n",
      "Epoch 00029: val_loss improved from -15254.41801 to -16295.08877, saving model to model_training_file.hdf5\n",
      "Epoch 30/100\n",
      "6574/6574 [==============================] - 16s 2ms/step - loss: -17704.9419 - accuracy: 0.4099 - val_loss: -17380.9343 - val_accuracy: 0.4155\n",
      "\n",
      "Epoch 00030: val_loss improved from -16295.08877 to -17380.93434, saving model to model_training_file.hdf5\n",
      "Epoch 31/100\n",
      "6574/6574 [==============================] - 16s 2ms/step - loss: -18989.4471 - accuracy: 0.4099 - val_loss: -18500.4320 - val_accuracy: 0.4155\n"
     ]
    },
    {
     "name": "stdout",
     "output_type": "stream",
     "text": [
      "\n",
      "Epoch 00031: val_loss improved from -17380.93434 to -18500.43204, saving model to model_training_file.hdf5\n",
      "Epoch 32/100\n",
      "6574/6574 [==============================] - 15s 2ms/step - loss: -20084.5274 - accuracy: 0.4099 - val_loss: -19657.2954 - val_accuracy: 0.4155\n",
      "\n",
      "Epoch 00032: val_loss improved from -18500.43204 to -19657.29544, saving model to model_training_file.hdf5\n",
      "Epoch 33/100\n",
      "6574/6574 [==============================] - 18s 3ms/step - loss: -21352.3526 - accuracy: 0.4099 - val_loss: -20844.7944 - val_accuracy: 0.4155\n",
      "\n",
      "Epoch 00033: val_loss improved from -19657.29544 to -20844.79436, saving model to model_training_file.hdf5\n",
      "Epoch 34/100\n",
      "6574/6574 [==============================] - 16s 2ms/step - loss: -22609.5461 - accuracy: 0.4099 - val_loss: -22070.0199 - val_accuracy: 0.4155\n",
      "\n",
      "Epoch 00034: val_loss improved from -20844.79436 to -22070.01993, saving model to model_training_file.hdf5\n",
      "Epoch 35/100\n",
      "6574/6574 [==============================] - 16s 2ms/step - loss: -23953.3554 - accuracy: 0.4099 - val_loss: -23319.7830 - val_accuracy: 0.4155\n",
      "\n",
      "Epoch 00035: val_loss improved from -22070.01993 to -23319.78298, saving model to model_training_file.hdf5\n",
      "Epoch 36/100\n",
      "6574/6574 [==============================] - 15s 2ms/step - loss: -25295.1425 - accuracy: 0.4099 - val_loss: -24611.9296 - val_accuracy: 0.4155\n",
      "\n",
      "Epoch 00036: val_loss improved from -23319.78298 to -24611.92960, saving model to model_training_file.hdf5\n",
      "Epoch 37/100\n",
      "6574/6574 [==============================] - 15s 2ms/step - loss: -26589.0580 - accuracy: 0.4099 - val_loss: -25948.0479 - val_accuracy: 0.4155\n",
      "\n",
      "Epoch 00037: val_loss improved from -24611.92960 to -25948.04792, saving model to model_training_file.hdf5\n",
      "Epoch 38/100\n",
      "6574/6574 [==============================] - 15s 2ms/step - loss: -28173.1800 - accuracy: 0.4099 - val_loss: -27319.2127 - val_accuracy: 0.4155\n",
      "\n",
      "Epoch 00038: val_loss improved from -25948.04792 to -27319.21272, saving model to model_training_file.hdf5\n",
      "Epoch 39/100\n",
      "6574/6574 [==============================] - 15s 2ms/step - loss: -29606.5765 - accuracy: 0.4099 - val_loss: -28663.6945 - val_accuracy: 0.4155\n",
      "\n",
      "Epoch 00039: val_loss improved from -27319.21272 to -28663.69454, saving model to model_training_file.hdf5\n",
      "Epoch 40/100\n",
      "6574/6574 [==============================] - 15s 2ms/step - loss: -31082.0507 - accuracy: 0.4099 - val_loss: -30041.9587 - val_accuracy: 0.4155\n",
      "\n",
      "Epoch 00040: val_loss improved from -28663.69454 to -30041.95869, saving model to model_training_file.hdf5\n",
      "Epoch 41/100\n",
      "6574/6574 [==============================] - 15s 2ms/step - loss: -32750.4825 - accuracy: 0.4099 - val_loss: -31447.4930 - val_accuracy: 0.4155\n",
      "\n",
      "Epoch 00041: val_loss improved from -30041.95869 to -31447.49304, saving model to model_training_file.hdf5\n",
      "Epoch 42/100\n",
      "6574/6574 [==============================] - 15s 2ms/step - loss: -34470.7057 - accuracy: 0.4099 - val_loss: -32896.4323 - val_accuracy: 0.4155\n",
      "\n",
      "Epoch 00042: val_loss improved from -31447.49304 to -32896.43229, saving model to model_training_file.hdf5\n",
      "Epoch 43/100\n",
      "6574/6574 [==============================] - 15s 2ms/step - loss: -35972.1761 - accuracy: 0.4099 - val_loss: -34463.6653 - val_accuracy: 0.4155\n",
      "\n",
      "Epoch 00043: val_loss improved from -32896.43229 to -34463.66526, saving model to model_training_file.hdf5\n",
      "Epoch 44/100\n",
      "6574/6574 [==============================] - 15s 2ms/step - loss: -37538.3133 - accuracy: 0.4099 - val_loss: -36156.2548 - val_accuracy: 0.4155\n",
      "\n",
      "Epoch 00044: val_loss improved from -34463.66526 to -36156.25478, saving model to model_training_file.hdf5\n",
      "Epoch 45/100\n",
      "6574/6574 [==============================] - 15s 2ms/step - loss: -38858.9968 - accuracy: 0.4101 - val_loss: -37879.2404 - val_accuracy: 0.4167\n",
      "\n",
      "Epoch 00045: val_loss improved from -36156.25478 to -37879.24045, saving model to model_training_file.hdf5\n",
      "Epoch 46/100\n",
      "6574/6574 [==============================] - 15s 2ms/step - loss: -41176.1069 - accuracy: 0.4104 - val_loss: -39629.2117 - val_accuracy: 0.4179\n",
      "\n",
      "Epoch 00046: val_loss improved from -37879.24045 to -39629.21173, saving model to model_training_file.hdf5\n",
      "Epoch 47/100\n",
      "6574/6574 [==============================] - 15s 2ms/step - loss: -43060.3467 - accuracy: 0.4122 - val_loss: -41360.2806 - val_accuracy: 0.4203\n",
      "\n",
      "Epoch 00047: val_loss improved from -39629.21173 to -41360.28064, saving model to model_training_file.hdf5\n",
      "Epoch 48/100\n",
      "6574/6574 [==============================] - 15s 2ms/step - loss: -44938.7554 - accuracy: 0.4138 - val_loss: -43186.9933 - val_accuracy: 0.4234\n",
      "\n",
      "Epoch 00048: val_loss improved from -41360.28064 to -43186.99332, saving model to model_training_file.hdf5\n",
      "Epoch 49/100\n",
      "6574/6574 [==============================] - 15s 2ms/step - loss: -46989.5573 - accuracy: 0.4154 - val_loss: -44942.2352 - val_accuracy: 0.4264\n",
      "\n",
      "Epoch 00049: val_loss improved from -43186.99332 to -44942.23515, saving model to model_training_file.hdf5\n",
      "Epoch 50/100\n",
      "6574/6574 [==============================] - 18s 3ms/step - loss: -48775.6057 - accuracy: 0.4156 - val_loss: -46243.3309 - val_accuracy: 0.4270\n",
      "\n",
      "Epoch 00050: val_loss improved from -44942.23515 to -46243.33090, saving model to model_training_file.hdf5\n",
      "Epoch 51/100\n",
      "6574/6574 [==============================] - 17s 3ms/step - loss: -50756.7623 - accuracy: 0.4177 - val_loss: -48540.9486 - val_accuracy: 0.4252\n",
      "\n",
      "Epoch 00051: val_loss improved from -46243.33090 to -48540.94857, saving model to model_training_file.hdf5\n",
      "Epoch 52/100\n",
      "6574/6574 [==============================] - 32s 5ms/step - loss: -52638.1106 - accuracy: 0.4168 - val_loss: -50468.5933 - val_accuracy: 0.4258\n",
      "\n",
      "Epoch 00052: val_loss improved from -48540.94857 to -50468.59330, saving model to model_training_file.hdf5\n",
      "Epoch 53/100\n",
      "6574/6574 [==============================] - 30s 5ms/step - loss: -54806.5666 - accuracy: 0.4174 - val_loss: -52371.8412 - val_accuracy: 0.4264\n",
      "\n",
      "Epoch 00053: val_loss improved from -50468.59330 to -52371.84121, saving model to model_training_file.hdf5\n",
      "Epoch 54/100\n",
      "6574/6574 [==============================] - 22s 3ms/step - loss: -56717.1463 - accuracy: 0.4166 - val_loss: -54347.6576 - val_accuracy: 0.4258\n",
      "\n",
      "Epoch 00054: val_loss improved from -52371.84121 to -54347.65761, saving model to model_training_file.hdf5\n",
      "Epoch 55/100\n",
      "6574/6574 [==============================] - 18s 3ms/step - loss: -58825.5765 - accuracy: 0.4174 - val_loss: -56288.1566 - val_accuracy: 0.4234\n",
      "\n",
      "Epoch 00055: val_loss improved from -54347.65761 to -56288.15663, saving model to model_training_file.hdf5\n",
      "Epoch 56/100\n",
      "6574/6574 [==============================] - 17s 3ms/step - loss: -60876.3952 - accuracy: 0.4185 - val_loss: -58283.2118 - val_accuracy: 0.4227\n",
      "\n",
      "Epoch 00056: val_loss improved from -56288.15663 to -58283.21183, saving model to model_training_file.hdf5\n",
      "Epoch 57/100\n",
      "6574/6574 [==============================] - 17s 3ms/step - loss: -63395.1040 - accuracy: 0.4171 - val_loss: -60302.1469 - val_accuracy: 0.4258\n",
      "\n",
      "Epoch 00057: val_loss improved from -58283.21183 to -60302.14692, saving model to model_training_file.hdf5\n",
      "Epoch 58/100\n",
      "6574/6574 [==============================] - 16s 3ms/step - loss: -65133.7664 - accuracy: 0.4171 - val_loss: -62464.6611 - val_accuracy: 0.4221\n",
      "\n",
      "Epoch 00058: val_loss improved from -60302.14692 to -62464.66114, saving model to model_training_file.hdf5\n",
      "Epoch 59/100\n",
      "6574/6574 [==============================] - 17s 3ms/step - loss: -67729.1862 - accuracy: 0.4183 - val_loss: -64625.2413 - val_accuracy: 0.4221\n",
      "\n",
      "Epoch 00059: val_loss improved from -62464.66114 to -64625.24133, saving model to model_training_file.hdf5\n",
      "Epoch 60/100\n",
      "6574/6574 [==============================] - 17s 3ms/step - loss: -69569.6795 - accuracy: 0.4185 - val_loss: -66727.0975 - val_accuracy: 0.4240\n",
      "\n",
      "Epoch 00060: val_loss improved from -64625.24133 to -66727.09749, saving model to model_training_file.hdf5\n",
      "Epoch 61/100\n",
      "6574/6574 [==============================] - 17s 3ms/step - loss: -72137.9203 - accuracy: 0.4180 - val_loss: -68965.5861 - val_accuracy: 0.4252\n",
      "\n",
      "Epoch 00061: val_loss improved from -66727.09749 to -68965.58605, saving model to model_training_file.hdf5\n",
      "Epoch 62/100\n",
      "6574/6574 [==============================] - 17s 3ms/step - loss: -74538.6199 - accuracy: 0.4189 - val_loss: -71177.9038 - val_accuracy: 0.4227\n"
     ]
    },
    {
     "name": "stdout",
     "output_type": "stream",
     "text": [
      "\n",
      "Epoch 00062: val_loss improved from -68965.58605 to -71177.90382, saving model to model_training_file.hdf5\n",
      "Epoch 63/100\n",
      "6574/6574 [==============================] - 16s 2ms/step - loss: -77036.7843 - accuracy: 0.4203 - val_loss: -73438.2490 - val_accuracy: 0.4227\n",
      "\n",
      "Epoch 00063: val_loss improved from -71177.90382 to -73438.24905, saving model to model_training_file.hdf5\n",
      "Epoch 64/100\n",
      "6574/6574 [==============================] - 20s 3ms/step - loss: -79000.0403 - accuracy: 0.4194 - val_loss: -75706.9063 - val_accuracy: 0.4234\n",
      "\n",
      "Epoch 00064: val_loss improved from -73438.24905 to -75706.90635, saving model to model_training_file.hdf5\n",
      "Epoch 65/100\n",
      "6574/6574 [==============================] - 21s 3ms/step - loss: -81685.3819 - accuracy: 0.4185 - val_loss: -76050.3460 - val_accuracy: 0.4234\n",
      "\n",
      "Epoch 00065: val_loss improved from -75706.90635 to -76050.34595, saving model to model_training_file.hdf5\n",
      "Epoch 66/100\n",
      "6574/6574 [==============================] - 18s 3ms/step - loss: -84474.6581 - accuracy: 0.4194 - val_loss: -80455.7916 - val_accuracy: 0.4246\n",
      "\n",
      "Epoch 00066: val_loss improved from -76050.34595 to -80455.79159, saving model to model_training_file.hdf5\n",
      "Epoch 67/100\n",
      "6574/6574 [==============================] - 19s 3ms/step - loss: -87145.1920 - accuracy: 0.4197 - val_loss: -82936.5278 - val_accuracy: 0.4227\n",
      "\n",
      "Epoch 00067: val_loss improved from -80455.79159 to -82936.52779, saving model to model_training_file.hdf5\n",
      "Epoch 68/100\n",
      "6574/6574 [==============================] - 25s 4ms/step - loss: -89608.4718 - accuracy: 0.4176 - val_loss: -85382.7286 - val_accuracy: 0.4215\n",
      "\n",
      "Epoch 00068: val_loss improved from -82936.52779 to -85382.72862, saving model to model_training_file.hdf5\n",
      "Epoch 69/100\n",
      "6574/6574 [==============================] - 20s 3ms/step - loss: -92495.1272 - accuracy: 0.4176 - val_loss: -87557.2656 - val_accuracy: 0.4191\n",
      "\n",
      "Epoch 00069: val_loss improved from -85382.72862 to -87557.26559, saving model to model_training_file.hdf5\n",
      "Epoch 70/100\n",
      "6574/6574 [==============================] - 17s 3ms/step - loss: -94979.8657 - accuracy: 0.4189 - val_loss: -90328.3378 - val_accuracy: 0.4221\n",
      "\n",
      "Epoch 00070: val_loss improved from -87557.26559 to -90328.33784, saving model to model_training_file.hdf5\n",
      "Epoch 71/100\n",
      "6574/6574 [==============================] - 16s 2ms/step - loss: -97894.5520 - accuracy: 0.4204 - val_loss: -92894.2755 - val_accuracy: 0.4215\n",
      "\n",
      "Epoch 00071: val_loss improved from -90328.33784 to -92894.27547, saving model to model_training_file.hdf5\n",
      "Epoch 72/100\n",
      "6574/6574 [==============================] - 16s 2ms/step - loss: -100867.9511 - accuracy: 0.4192 - val_loss: -95236.4362 - val_accuracy: 0.4197\n",
      "\n",
      "Epoch 00072: val_loss improved from -92894.27547 to -95236.43621, saving model to model_training_file.hdf5\n",
      "Epoch 73/100\n",
      "6574/6574 [==============================] - 17s 3ms/step - loss: -103359.7709 - accuracy: 0.4192 - val_loss: -97992.4355 - val_accuracy: 0.4221\n",
      "\n",
      "Epoch 00073: val_loss improved from -95236.43621 to -97992.43547, saving model to model_training_file.hdf5\n",
      "Epoch 74/100\n",
      "6574/6574 [==============================] - 17s 3ms/step - loss: -105544.1913 - accuracy: 0.4207 - val_loss: -100783.8509 - val_accuracy: 0.4209\n",
      "\n",
      "Epoch 00074: val_loss improved from -97992.43547 to -100783.85086, saving model to model_training_file.hdf5\n",
      "Epoch 75/100\n",
      "6574/6574 [==============================] - 16s 2ms/step - loss: -108697.1929 - accuracy: 0.4198 - val_loss: -103367.5583 - val_accuracy: 0.4197\n",
      "\n",
      "Epoch 00075: val_loss improved from -100783.85086 to -103367.55832, saving model to model_training_file.hdf5\n",
      "Epoch 76/100\n",
      "6574/6574 [==============================] - 18s 3ms/step - loss: -111535.0786 - accuracy: 0.4198 - val_loss: -106195.6537 - val_accuracy: 0.4203\n",
      "\n",
      "Epoch 00076: val_loss improved from -103367.55832 to -106195.65368, saving model to model_training_file.hdf5\n",
      "Epoch 77/100\n",
      "6574/6574 [==============================] - 16s 2ms/step - loss: -114629.0446 - accuracy: 0.4207 - val_loss: -108956.9756 - val_accuracy: 0.4197\n",
      "\n",
      "Epoch 00077: val_loss improved from -106195.65368 to -108956.97559, saving model to model_training_file.hdf5\n",
      "Epoch 78/100\n",
      "6574/6574 [==============================] - 20s 3ms/step - loss: -117611.4448 - accuracy: 0.4220 - val_loss: -111751.0840 - val_accuracy: 0.4209\n",
      "\n",
      "Epoch 00078: val_loss improved from -108956.97559 to -111751.08396, saving model to model_training_file.hdf5\n",
      "Epoch 79/100\n",
      "6574/6574 [==============================] - 17s 3ms/step - loss: -120600.3209 - accuracy: 0.4197 - val_loss: -114373.1694 - val_accuracy: 0.4191\n",
      "\n",
      "Epoch 00079: val_loss improved from -111751.08396 to -114373.16940, saving model to model_training_file.hdf5\n",
      "Epoch 80/100\n",
      "6574/6574 [==============================] - 16s 2ms/step - loss: -124303.8446 - accuracy: 0.4215 - val_loss: -117402.2348 - val_accuracy: 0.4203\n",
      "\n",
      "Epoch 00080: val_loss improved from -114373.16940 to -117402.23483, saving model to model_training_file.hdf5\n",
      "Epoch 81/100\n",
      "6574/6574 [==============================] - 20s 3ms/step - loss: -126746.4509 - accuracy: 0.4204 - val_loss: -120327.1208 - val_accuracy: 0.4209\n",
      "\n",
      "Epoch 00081: val_loss improved from -117402.23483 to -120327.12078, saving model to model_training_file.hdf5\n",
      "Epoch 82/100\n",
      "6574/6574 [==============================] - 18s 3ms/step - loss: -130120.7368 - accuracy: 0.4227 - val_loss: -123380.2783 - val_accuracy: 0.4197\n",
      "\n",
      "Epoch 00082: val_loss improved from -120327.12078 to -123380.27828, saving model to model_training_file.hdf5\n",
      "Epoch 83/100\n",
      "6574/6574 [==============================] - 18s 3ms/step - loss: -133150.1188 - accuracy: 0.4211 - val_loss: -126487.3454 - val_accuracy: 0.4197\n",
      "\n",
      "Epoch 00083: val_loss improved from -123380.27828 to -126487.34538, saving model to model_training_file.hdf5\n",
      "Epoch 84/100\n",
      "6574/6574 [==============================] - 15s 2ms/step - loss: -136250.9863 - accuracy: 0.4235 - val_loss: -128866.0690 - val_accuracy: 0.4215\n",
      "\n",
      "Epoch 00084: val_loss improved from -126487.34538 to -128866.06904, saving model to model_training_file.hdf5\n",
      "Epoch 85/100\n",
      "6574/6574 [==============================] - 16s 2ms/step - loss: -139896.3752 - accuracy: 0.4232 - val_loss: -132394.7655 - val_accuracy: 0.4185\n",
      "\n",
      "Epoch 00085: val_loss improved from -128866.06904 to -132394.76551, saving model to model_training_file.hdf5\n",
      "Epoch 86/100\n",
      "6574/6574 [==============================] - 18s 3ms/step - loss: -143091.3914 - accuracy: 0.4221 - val_loss: -134607.8369 - val_accuracy: 0.4197\n",
      "\n",
      "Epoch 00086: val_loss improved from -132394.76551 to -134607.83691, saving model to model_training_file.hdf5\n",
      "Epoch 87/100\n",
      "6574/6574 [==============================] - 17s 3ms/step - loss: -146496.9139 - accuracy: 0.4236 - val_loss: -138559.8874 - val_accuracy: 0.4185\n",
      "\n",
      "Epoch 00087: val_loss improved from -134607.83691 to -138559.88739, saving model to model_training_file.hdf5\n",
      "Epoch 88/100\n",
      "6574/6574 [==============================] - 17s 3ms/step - loss: -149483.4108 - accuracy: 0.4203 - val_loss: -141609.9499 - val_accuracy: 0.4179\n",
      "\n",
      "Epoch 00088: val_loss improved from -138559.88739 to -141609.94986, saving model to model_training_file.hdf5\n",
      "Epoch 89/100\n",
      "6574/6574 [==============================] - 17s 3ms/step - loss: -153124.1473 - accuracy: 0.4230 - val_loss: -145101.1812 - val_accuracy: 0.4221\n",
      "\n",
      "Epoch 00089: val_loss improved from -141609.94986 to -145101.18115, saving model to model_training_file.hdf5\n",
      "Epoch 90/100\n",
      "6574/6574 [==============================] - 17s 3ms/step - loss: -156297.7532 - accuracy: 0.4244 - val_loss: -148004.8142 - val_accuracy: 0.4191\n",
      "\n",
      "Epoch 00090: val_loss improved from -145101.18115 to -148004.81425, saving model to model_training_file.hdf5\n",
      "Epoch 91/100\n",
      "6574/6574 [==============================] - 16s 3ms/step - loss: -160213.7983 - accuracy: 0.4230 - val_loss: -150887.6002 - val_accuracy: 0.4203\n",
      "\n",
      "Epoch 00091: val_loss improved from -148004.81425 to -150887.60017, saving model to model_training_file.hdf5\n",
      "Epoch 92/100\n",
      "6574/6574 [==============================] - 17s 3ms/step - loss: -163886.7236 - accuracy: 0.4218 - val_loss: -154649.8916 - val_accuracy: 0.4185\n",
      "\n",
      "Epoch 00092: val_loss improved from -150887.60017 to -154649.89158, saving model to model_training_file.hdf5\n",
      "Epoch 93/100\n"
     ]
    },
    {
     "name": "stdout",
     "output_type": "stream",
     "text": [
      "6574/6574 [==============================] - 16s 2ms/step - loss: -167331.6221 - accuracy: 0.4221 - val_loss: -157962.1911 - val_accuracy: 0.4179\n",
      "\n",
      "Epoch 00093: val_loss improved from -154649.89158 to -157962.19111, saving model to model_training_file.hdf5\n",
      "Epoch 94/100\n",
      "6574/6574 [==============================] - 17s 3ms/step - loss: -169702.1891 - accuracy: 0.4235 - val_loss: -161122.0358 - val_accuracy: 0.4197\n",
      "\n",
      "Epoch 00094: val_loss improved from -157962.19111 to -161122.03577, saving model to model_training_file.hdf5\n",
      "Epoch 95/100\n",
      "6574/6574 [==============================] - 16s 2ms/step - loss: -174299.3649 - accuracy: 0.4212 - val_loss: -164638.6261 - val_accuracy: 0.4215\n",
      "\n",
      "Epoch 00095: val_loss improved from -161122.03577 to -164638.62610, saving model to model_training_file.hdf5\n",
      "Epoch 96/100\n",
      "6574/6574 [==============================] - 16s 2ms/step - loss: -178323.8920 - accuracy: 0.4232 - val_loss: -167734.5679 - val_accuracy: 0.4240\n",
      "\n",
      "Epoch 00096: val_loss improved from -164638.62610 to -167734.56786, saving model to model_training_file.hdf5\n",
      "Epoch 97/100\n",
      "6574/6574 [==============================] - 16s 2ms/step - loss: -182430.7770 - accuracy: 0.4233 - val_loss: -171551.7175 - val_accuracy: 0.4209\n",
      "\n",
      "Epoch 00097: val_loss improved from -167734.56786 to -171551.71750, saving model to model_training_file.hdf5\n",
      "Epoch 98/100\n",
      "6574/6574 [==============================] - 16s 2ms/step - loss: -186027.7401 - accuracy: 0.4264 - val_loss: -175372.9236 - val_accuracy: 0.4246\n",
      "\n",
      "Epoch 00098: val_loss improved from -171551.71750 to -175372.92359, saving model to model_training_file.hdf5\n",
      "Epoch 99/100\n",
      "6574/6574 [==============================] - 16s 2ms/step - loss: -189256.8809 - accuracy: 0.4249 - val_loss: -178380.0318 - val_accuracy: 0.4240\n",
      "\n",
      "Epoch 00099: val_loss improved from -175372.92359 to -178380.03182, saving model to model_training_file.hdf5\n",
      "Epoch 100/100\n",
      "6574/6574 [==============================] - 16s 2ms/step - loss: -193199.4351 - accuracy: 0.4252 - val_loss: -182195.9308 - val_accuracy: 0.4227\n",
      "\n",
      "Epoch 00100: val_loss improved from -178380.03182 to -182195.93077, saving model to model_training_file.hdf5\n"
     ]
    }
   ],
   "source": [
    "history = model.fit(sequences_matrix, y_train,\n",
    "                    batch_size=128,\n",
    "                    epochs=100,\n",
    "                    callbacks=callbacks,\n",
    "                    validation_split=0.2)"
   ]
  },
  {
   "cell_type": "code",
   "execution_count": 91,
   "metadata": {},
   "outputs": [
    {
     "data": {
      "text/plain": [
       "<matplotlib.legend.Legend at 0x7fa920227cd0>"
      ]
     },
     "execution_count": 91,
     "metadata": {},
     "output_type": "execute_result"
    },
    {
     "data": {
      "image/png": "[encoded data removed]",
      "text/plain": [
       "<Figure size 576x576 with 1 Axes>"
      ]
     },
     "metadata": {
      "needs_background": "light"
     },
     "output_type": "display_data"
    }
   ],
   "source": [
    "plt.figure(figsize=(8, 8))\n",
    "plt.title(\"Learning curve\")\n",
    "plt.plot(history.history[\"loss\"], label=\"loss\")\n",
    "plt.plot(history.history[\"val_loss\"], label=\"val_loss\")\n",
    "plt.plot( np.argmin(history.history[\"val_loss\"]), np.min(history.history[\"val_loss\"]), marker=\"x\", color=\"r\", label=\"best model\")\n",
    "plt.xlabel(\"Epochs\")\n",
    "plt.ylabel(\"log_loss\")\n",
    "plt.legend()"
   ]
  },
  {
   "cell_type": "markdown",
   "metadata": {},
   "source": [
    "### Évaluer le modèle sur les données de test."
   ]
  },
  {
   "cell_type": "code",
   "execution_count": 92,
   "metadata": {},
   "outputs": [],
   "source": [
    "test_sequences = tok.texts_to_sequences(X_test)\n",
    "test_sequences_matrix = sequence.pad_sequences(test_sequences, maxlen=max_len)"
   ]
  },
  {
   "cell_type": "code",
   "execution_count": 93,
   "metadata": {},
   "outputs": [
    {
     "name": "stdout",
     "output_type": "stream",
     "text": [
      "2055/2055 [==============================] - 2s 1ms/step\n"
     ]
    }
   ],
   "source": [
    "accr = model.evaluate(test_sequences_matrix,y_test)"
   ]
  },
  {
   "cell_type": "code",
   "execution_count": 94,
   "metadata": {},
   "outputs": [
    {
     "name": "stdout",
     "output_type": "stream",
     "text": [
      "Données de test \n",
      "  Loss: -187992.868\n",
      "  Accuracy: 0.415\n"
     ]
    }
   ],
   "source": [
    "print('Données de test \\n  Loss: {:0.3f}\\n  Accuracy: {:0.3f}'.format(accr[0],accr[1]))"
   ]
  },
  {
   "cell_type": "markdown",
   "metadata": {},
   "source": [
    "En definitive, notre modèle LSTM n'est pas aussi perfermant. La précision du modèle est de 41% ce qui est inférieure au classifier SVM qui est notre meilleur modèle.\n"
   ]
  },
  {
   "cell_type": "markdown",
   "metadata": {},
   "source": [
    "# ---------------------------"
   ]
  },
  {
   "cell_type": "markdown",
   "metadata": {},
   "source": [
    "## Perspective\n",
    "\n",
    "\n",
    "Pour ne pas perdre beaucoup d'information en supprimant les lignes personnes avec moins de 2000 dialogues, Nous pouvons les regrouper dans un nouveau personnage que nous créons(others). Nous aurons dans ce cas 6 labels.\n"
   ]
  },
  {
   "cell_type": "code",
   "execution_count": 95,
   "metadata": {},
   "outputs": [
    {
     "data": {
      "text/plain": [
       "\"dataset['Character'] = dataset['Character'].replace([x for x in dataset['Character'] \\n                                                     if x not in top_personnages], 'Others')\\n\""
      ]
     },
     "execution_count": 95,
     "metadata": {},
     "output_type": "execute_result"
    }
   ],
   "source": [
    "# Top 5 personnages\n",
    "#top_personnages = [\"Cartman\", \"Stan\", \"Kyle\", \"Butters\", \"Randy\"]\n",
    "\n",
    "# Remplacer tous les autres personnages par others\n",
    "'''dataset['Character'] = dataset['Character'].replace([x for x in dataset['Character'] \n",
    "                                                     if x not in top_personnages], 'Others')\n",
    "'''"
   ]
  }
 ],
 "metadata": {
  "kernelspec": {
   "display_name": "Python 3",
   "language": "python",
   "name": "python3"
  },
  "language_info": {
   "codemirror_mode": {
    "name": "ipython",
    "version": 3
   },
   "file_extension": ".py",
   "mimetype": "text/x-python",
   "name": "python",
   "nbconvert_exporter": "python",
   "pygments_lexer": "ipython3",
   "version": "3.7.9"
  }
 },
 "nbformat": 4,
 "nbformat_minor": 4
}
